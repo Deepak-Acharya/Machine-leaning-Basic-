{
 "cells": [
  {
   "cell_type": "code",
   "execution_count": 1,
   "id": "61f170e9",
   "metadata": {
    "_cell_guid": "b1076dfc-b9ad-4769-8c92-a6c4dae69d19",
    "_uuid": "8f2839f25d086af736a60e9eeb907d3b93b6e0e5",
    "execution": {
     "iopub.execute_input": "2024-02-13T05:37:45.793533Z",
     "iopub.status.busy": "2024-02-13T05:37:45.792764Z",
     "iopub.status.idle": "2024-02-13T05:37:46.823891Z",
     "shell.execute_reply": "2024-02-13T05:37:46.822471Z"
    },
    "papermill": {
     "duration": 1.047391,
     "end_time": "2024-02-13T05:37:46.827060",
     "exception": false,
     "start_time": "2024-02-13T05:37:45.779669",
     "status": "completed"
    },
    "tags": []
   },
   "outputs": [
    {
     "name": "stdout",
     "output_type": "stream",
     "text": [
      "/kaggle/input/pima-indians-diabetes-database/diabetes.csv\n"
     ]
    }
   ],
   "source": [
    "# This Python 3 environment comes with many helpful analytics libraries installed\n",
    "# It is defined by the kaggle/python Docker image: https://github.com/kaggle/docker-python\n",
    "# For example, here's several helpful packages to load\n",
    "\n",
    "import numpy as np # linear algebra\n",
    "import pandas as pd # data processing, CSV file I/O (e.g. pd.read_csv)\n",
    "\n",
    "# Input data files are available in the read-only \"../input/\" directory\n",
    "# For example, running this (by clicking run or pressing Shift+Enter) will list all files under the input directory\n",
    "\n",
    "import os\n",
    "for dirname, _, filenames in os.walk('/kaggle/input'):\n",
    "    for filename in filenames:\n",
    "        print(os.path.join(dirname, filename))\n",
    "\n",
    "# You can write up to 20GB to the current directory (/kaggle/working/) that gets preserved as output when you create a version using \"Save & Run All\" \n",
    "# You can also write temporary files to /kaggle/temp/, but they won't be saved outside of the current session"
   ]
  },
  {
   "cell_type": "markdown",
   "id": "570bf5e0",
   "metadata": {
    "papermill": {
     "duration": 0.010664,
     "end_time": "2024-02-13T05:37:46.848502",
     "exception": false,
     "start_time": "2024-02-13T05:37:46.837838",
     "status": "completed"
    },
    "tags": []
   },
   "source": [
    "# Importing the Dependencies"
   ]
  },
  {
   "cell_type": "code",
   "execution_count": 2,
   "id": "d4ea96db",
   "metadata": {
    "execution": {
     "iopub.execute_input": "2024-02-13T05:37:46.872233Z",
     "iopub.status.busy": "2024-02-13T05:37:46.871582Z",
     "iopub.status.idle": "2024-02-13T05:37:48.459769Z",
     "shell.execute_reply": "2024-02-13T05:37:48.458759Z"
    },
    "papermill": {
     "duration": 1.603861,
     "end_time": "2024-02-13T05:37:48.462834",
     "exception": false,
     "start_time": "2024-02-13T05:37:46.858973",
     "status": "completed"
    },
    "tags": []
   },
   "outputs": [],
   "source": [
    "from sklearn.preprocessing import StandardScaler\n",
    "from sklearn.model_selection import train_test_split\n",
    "from sklearn import svm\n",
    "from sklearn.metrics import accuracy_score\n",
    "import warnings"
   ]
  },
  {
   "cell_type": "code",
   "execution_count": 3,
   "id": "5f948eb6",
   "metadata": {
    "execution": {
     "iopub.execute_input": "2024-02-13T05:37:48.487527Z",
     "iopub.status.busy": "2024-02-13T05:37:48.486019Z",
     "iopub.status.idle": "2024-02-13T05:37:48.491746Z",
     "shell.execute_reply": "2024-02-13T05:37:48.490794Z"
    },
    "papermill": {
     "duration": 0.02032,
     "end_time": "2024-02-13T05:37:48.494138",
     "exception": false,
     "start_time": "2024-02-13T05:37:48.473818",
     "status": "completed"
    },
    "tags": []
   },
   "outputs": [],
   "source": [
    "warnings.filterwarnings(\"ignore\", category=UserWarning, module=\"sklearn\")"
   ]
  },
  {
   "cell_type": "markdown",
   "id": "61e59e7d",
   "metadata": {
    "papermill": {
     "duration": 0.010592,
     "end_time": "2024-02-13T05:37:48.515849",
     "exception": false,
     "start_time": "2024-02-13T05:37:48.505257",
     "status": "completed"
    },
    "tags": []
   },
   "source": [
    "# Data Collection and Analysis\n",
    "**PIMA Diabetes Dataset**"
   ]
  },
  {
   "cell_type": "code",
   "execution_count": 4,
   "id": "11dd363e",
   "metadata": {
    "execution": {
     "iopub.execute_input": "2024-02-13T05:37:48.540337Z",
     "iopub.status.busy": "2024-02-13T05:37:48.539407Z",
     "iopub.status.idle": "2024-02-13T05:37:48.559333Z",
     "shell.execute_reply": "2024-02-13T05:37:48.558453Z"
    },
    "papermill": {
     "duration": 0.035241,
     "end_time": "2024-02-13T05:37:48.562322",
     "exception": false,
     "start_time": "2024-02-13T05:37:48.527081",
     "status": "completed"
    },
    "tags": []
   },
   "outputs": [],
   "source": [
    "#loading the diabetes dataset to a pandas dataframe\n",
    "diabetes_dataset = pd.read_csv('/kaggle/input/pima-indians-diabetes-database/diabetes.csv')"
   ]
  },
  {
   "cell_type": "code",
   "execution_count": 5,
   "id": "3fa9776f",
   "metadata": {
    "execution": {
     "iopub.execute_input": "2024-02-13T05:37:48.587718Z",
     "iopub.status.busy": "2024-02-13T05:37:48.586295Z",
     "iopub.status.idle": "2024-02-13T05:37:48.611296Z",
     "shell.execute_reply": "2024-02-13T05:37:48.609969Z"
    },
    "papermill": {
     "duration": 0.040053,
     "end_time": "2024-02-13T05:37:48.614004",
     "exception": false,
     "start_time": "2024-02-13T05:37:48.573951",
     "status": "completed"
    },
    "tags": []
   },
   "outputs": [
    {
     "data": {
      "text/html": [
       "<div>\n",
       "<style scoped>\n",
       "    .dataframe tbody tr th:only-of-type {\n",
       "        vertical-align: middle;\n",
       "    }\n",
       "\n",
       "    .dataframe tbody tr th {\n",
       "        vertical-align: top;\n",
       "    }\n",
       "\n",
       "    .dataframe thead th {\n",
       "        text-align: right;\n",
       "    }\n",
       "</style>\n",
       "<table border=\"1\" class=\"dataframe\">\n",
       "  <thead>\n",
       "    <tr style=\"text-align: right;\">\n",
       "      <th></th>\n",
       "      <th>Pregnancies</th>\n",
       "      <th>Glucose</th>\n",
       "      <th>BloodPressure</th>\n",
       "      <th>SkinThickness</th>\n",
       "      <th>Insulin</th>\n",
       "      <th>BMI</th>\n",
       "      <th>DiabetesPedigreeFunction</th>\n",
       "      <th>Age</th>\n",
       "      <th>Outcome</th>\n",
       "    </tr>\n",
       "  </thead>\n",
       "  <tbody>\n",
       "    <tr>\n",
       "      <th>0</th>\n",
       "      <td>6</td>\n",
       "      <td>148</td>\n",
       "      <td>72</td>\n",
       "      <td>35</td>\n",
       "      <td>0</td>\n",
       "      <td>33.6</td>\n",
       "      <td>0.627</td>\n",
       "      <td>50</td>\n",
       "      <td>1</td>\n",
       "    </tr>\n",
       "    <tr>\n",
       "      <th>1</th>\n",
       "      <td>1</td>\n",
       "      <td>85</td>\n",
       "      <td>66</td>\n",
       "      <td>29</td>\n",
       "      <td>0</td>\n",
       "      <td>26.6</td>\n",
       "      <td>0.351</td>\n",
       "      <td>31</td>\n",
       "      <td>0</td>\n",
       "    </tr>\n",
       "    <tr>\n",
       "      <th>2</th>\n",
       "      <td>8</td>\n",
       "      <td>183</td>\n",
       "      <td>64</td>\n",
       "      <td>0</td>\n",
       "      <td>0</td>\n",
       "      <td>23.3</td>\n",
       "      <td>0.672</td>\n",
       "      <td>32</td>\n",
       "      <td>1</td>\n",
       "    </tr>\n",
       "    <tr>\n",
       "      <th>3</th>\n",
       "      <td>1</td>\n",
       "      <td>89</td>\n",
       "      <td>66</td>\n",
       "      <td>23</td>\n",
       "      <td>94</td>\n",
       "      <td>28.1</td>\n",
       "      <td>0.167</td>\n",
       "      <td>21</td>\n",
       "      <td>0</td>\n",
       "    </tr>\n",
       "    <tr>\n",
       "      <th>4</th>\n",
       "      <td>0</td>\n",
       "      <td>137</td>\n",
       "      <td>40</td>\n",
       "      <td>35</td>\n",
       "      <td>168</td>\n",
       "      <td>43.1</td>\n",
       "      <td>2.288</td>\n",
       "      <td>33</td>\n",
       "      <td>1</td>\n",
       "    </tr>\n",
       "  </tbody>\n",
       "</table>\n",
       "</div>"
      ],
      "text/plain": [
       "   Pregnancies  Glucose  BloodPressure  SkinThickness  Insulin   BMI  \\\n",
       "0            6      148             72             35        0  33.6   \n",
       "1            1       85             66             29        0  26.6   \n",
       "2            8      183             64              0        0  23.3   \n",
       "3            1       89             66             23       94  28.1   \n",
       "4            0      137             40             35      168  43.1   \n",
       "\n",
       "   DiabetesPedigreeFunction  Age  Outcome  \n",
       "0                     0.627   50        1  \n",
       "1                     0.351   31        0  \n",
       "2                     0.672   32        1  \n",
       "3                     0.167   21        0  \n",
       "4                     2.288   33        1  "
      ]
     },
     "execution_count": 5,
     "metadata": {},
     "output_type": "execute_result"
    }
   ],
   "source": [
    "diabetes_dataset.head()"
   ]
  },
  {
   "cell_type": "code",
   "execution_count": 6,
   "id": "dbc53e0a",
   "metadata": {
    "execution": {
     "iopub.execute_input": "2024-02-13T05:37:48.641175Z",
     "iopub.status.busy": "2024-02-13T05:37:48.640337Z",
     "iopub.status.idle": "2024-02-13T05:37:48.649259Z",
     "shell.execute_reply": "2024-02-13T05:37:48.647643Z"
    },
    "papermill": {
     "duration": 0.025246,
     "end_time": "2024-02-13T05:37:48.652077",
     "exception": false,
     "start_time": "2024-02-13T05:37:48.626831",
     "status": "completed"
    },
    "tags": []
   },
   "outputs": [
    {
     "data": {
      "text/plain": [
       "(768, 9)"
      ]
     },
     "execution_count": 6,
     "metadata": {},
     "output_type": "execute_result"
    }
   ],
   "source": [
    "diabetes_dataset.shape"
   ]
  },
  {
   "cell_type": "code",
   "execution_count": 7,
   "id": "22b938a1",
   "metadata": {
    "execution": {
     "iopub.execute_input": "2024-02-13T05:37:48.676990Z",
     "iopub.status.busy": "2024-02-13T05:37:48.676513Z",
     "iopub.status.idle": "2024-02-13T05:37:48.722218Z",
     "shell.execute_reply": "2024-02-13T05:37:48.721066Z"
    },
    "papermill": {
     "duration": 0.061422,
     "end_time": "2024-02-13T05:37:48.724734",
     "exception": false,
     "start_time": "2024-02-13T05:37:48.663312",
     "status": "completed"
    },
    "tags": []
   },
   "outputs": [
    {
     "data": {
      "text/html": [
       "<div>\n",
       "<style scoped>\n",
       "    .dataframe tbody tr th:only-of-type {\n",
       "        vertical-align: middle;\n",
       "    }\n",
       "\n",
       "    .dataframe tbody tr th {\n",
       "        vertical-align: top;\n",
       "    }\n",
       "\n",
       "    .dataframe thead th {\n",
       "        text-align: right;\n",
       "    }\n",
       "</style>\n",
       "<table border=\"1\" class=\"dataframe\">\n",
       "  <thead>\n",
       "    <tr style=\"text-align: right;\">\n",
       "      <th></th>\n",
       "      <th>Pregnancies</th>\n",
       "      <th>Glucose</th>\n",
       "      <th>BloodPressure</th>\n",
       "      <th>SkinThickness</th>\n",
       "      <th>Insulin</th>\n",
       "      <th>BMI</th>\n",
       "      <th>DiabetesPedigreeFunction</th>\n",
       "      <th>Age</th>\n",
       "      <th>Outcome</th>\n",
       "    </tr>\n",
       "  </thead>\n",
       "  <tbody>\n",
       "    <tr>\n",
       "      <th>count</th>\n",
       "      <td>768.000000</td>\n",
       "      <td>768.000000</td>\n",
       "      <td>768.000000</td>\n",
       "      <td>768.000000</td>\n",
       "      <td>768.000000</td>\n",
       "      <td>768.000000</td>\n",
       "      <td>768.000000</td>\n",
       "      <td>768.000000</td>\n",
       "      <td>768.000000</td>\n",
       "    </tr>\n",
       "    <tr>\n",
       "      <th>mean</th>\n",
       "      <td>3.845052</td>\n",
       "      <td>120.894531</td>\n",
       "      <td>69.105469</td>\n",
       "      <td>20.536458</td>\n",
       "      <td>79.799479</td>\n",
       "      <td>31.992578</td>\n",
       "      <td>0.471876</td>\n",
       "      <td>33.240885</td>\n",
       "      <td>0.348958</td>\n",
       "    </tr>\n",
       "    <tr>\n",
       "      <th>std</th>\n",
       "      <td>3.369578</td>\n",
       "      <td>31.972618</td>\n",
       "      <td>19.355807</td>\n",
       "      <td>15.952218</td>\n",
       "      <td>115.244002</td>\n",
       "      <td>7.884160</td>\n",
       "      <td>0.331329</td>\n",
       "      <td>11.760232</td>\n",
       "      <td>0.476951</td>\n",
       "    </tr>\n",
       "    <tr>\n",
       "      <th>min</th>\n",
       "      <td>0.000000</td>\n",
       "      <td>0.000000</td>\n",
       "      <td>0.000000</td>\n",
       "      <td>0.000000</td>\n",
       "      <td>0.000000</td>\n",
       "      <td>0.000000</td>\n",
       "      <td>0.078000</td>\n",
       "      <td>21.000000</td>\n",
       "      <td>0.000000</td>\n",
       "    </tr>\n",
       "    <tr>\n",
       "      <th>25%</th>\n",
       "      <td>1.000000</td>\n",
       "      <td>99.000000</td>\n",
       "      <td>62.000000</td>\n",
       "      <td>0.000000</td>\n",
       "      <td>0.000000</td>\n",
       "      <td>27.300000</td>\n",
       "      <td>0.243750</td>\n",
       "      <td>24.000000</td>\n",
       "      <td>0.000000</td>\n",
       "    </tr>\n",
       "    <tr>\n",
       "      <th>50%</th>\n",
       "      <td>3.000000</td>\n",
       "      <td>117.000000</td>\n",
       "      <td>72.000000</td>\n",
       "      <td>23.000000</td>\n",
       "      <td>30.500000</td>\n",
       "      <td>32.000000</td>\n",
       "      <td>0.372500</td>\n",
       "      <td>29.000000</td>\n",
       "      <td>0.000000</td>\n",
       "    </tr>\n",
       "    <tr>\n",
       "      <th>75%</th>\n",
       "      <td>6.000000</td>\n",
       "      <td>140.250000</td>\n",
       "      <td>80.000000</td>\n",
       "      <td>32.000000</td>\n",
       "      <td>127.250000</td>\n",
       "      <td>36.600000</td>\n",
       "      <td>0.626250</td>\n",
       "      <td>41.000000</td>\n",
       "      <td>1.000000</td>\n",
       "    </tr>\n",
       "    <tr>\n",
       "      <th>max</th>\n",
       "      <td>17.000000</td>\n",
       "      <td>199.000000</td>\n",
       "      <td>122.000000</td>\n",
       "      <td>99.000000</td>\n",
       "      <td>846.000000</td>\n",
       "      <td>67.100000</td>\n",
       "      <td>2.420000</td>\n",
       "      <td>81.000000</td>\n",
       "      <td>1.000000</td>\n",
       "    </tr>\n",
       "  </tbody>\n",
       "</table>\n",
       "</div>"
      ],
      "text/plain": [
       "       Pregnancies     Glucose  BloodPressure  SkinThickness     Insulin  \\\n",
       "count   768.000000  768.000000     768.000000     768.000000  768.000000   \n",
       "mean      3.845052  120.894531      69.105469      20.536458   79.799479   \n",
       "std       3.369578   31.972618      19.355807      15.952218  115.244002   \n",
       "min       0.000000    0.000000       0.000000       0.000000    0.000000   \n",
       "25%       1.000000   99.000000      62.000000       0.000000    0.000000   \n",
       "50%       3.000000  117.000000      72.000000      23.000000   30.500000   \n",
       "75%       6.000000  140.250000      80.000000      32.000000  127.250000   \n",
       "max      17.000000  199.000000     122.000000      99.000000  846.000000   \n",
       "\n",
       "              BMI  DiabetesPedigreeFunction         Age     Outcome  \n",
       "count  768.000000                768.000000  768.000000  768.000000  \n",
       "mean    31.992578                  0.471876   33.240885    0.348958  \n",
       "std      7.884160                  0.331329   11.760232    0.476951  \n",
       "min      0.000000                  0.078000   21.000000    0.000000  \n",
       "25%     27.300000                  0.243750   24.000000    0.000000  \n",
       "50%     32.000000                  0.372500   29.000000    0.000000  \n",
       "75%     36.600000                  0.626250   41.000000    1.000000  \n",
       "max     67.100000                  2.420000   81.000000    1.000000  "
      ]
     },
     "execution_count": 7,
     "metadata": {},
     "output_type": "execute_result"
    }
   ],
   "source": [
    "diabetes_dataset.describe()"
   ]
  },
  {
   "cell_type": "code",
   "execution_count": 8,
   "id": "329f48f2",
   "metadata": {
    "execution": {
     "iopub.execute_input": "2024-02-13T05:37:48.749733Z",
     "iopub.status.busy": "2024-02-13T05:37:48.749019Z",
     "iopub.status.idle": "2024-02-13T05:37:48.764756Z",
     "shell.execute_reply": "2024-02-13T05:37:48.763326Z"
    },
    "papermill": {
     "duration": 0.031554,
     "end_time": "2024-02-13T05:37:48.767876",
     "exception": false,
     "start_time": "2024-02-13T05:37:48.736322",
     "status": "completed"
    },
    "tags": []
   },
   "outputs": [
    {
     "data": {
      "text/plain": [
       "Outcome\n",
       "0    500\n",
       "1    268\n",
       "Name: count, dtype: int64"
      ]
     },
     "execution_count": 8,
     "metadata": {},
     "output_type": "execute_result"
    }
   ],
   "source": [
    "diabetes_dataset['Outcome'].value_counts()"
   ]
  },
  {
   "cell_type": "code",
   "execution_count": 9,
   "id": "59a141d7",
   "metadata": {
    "execution": {
     "iopub.execute_input": "2024-02-13T05:37:48.793966Z",
     "iopub.status.busy": "2024-02-13T05:37:48.792778Z",
     "iopub.status.idle": "2024-02-13T05:37:48.818517Z",
     "shell.execute_reply": "2024-02-13T05:37:48.816444Z"
    },
    "papermill": {
     "duration": 0.041386,
     "end_time": "2024-02-13T05:37:48.821158",
     "exception": false,
     "start_time": "2024-02-13T05:37:48.779772",
     "status": "completed"
    },
    "tags": []
   },
   "outputs": [
    {
     "data": {
      "text/html": [
       "<div>\n",
       "<style scoped>\n",
       "    .dataframe tbody tr th:only-of-type {\n",
       "        vertical-align: middle;\n",
       "    }\n",
       "\n",
       "    .dataframe tbody tr th {\n",
       "        vertical-align: top;\n",
       "    }\n",
       "\n",
       "    .dataframe thead th {\n",
       "        text-align: right;\n",
       "    }\n",
       "</style>\n",
       "<table border=\"1\" class=\"dataframe\">\n",
       "  <thead>\n",
       "    <tr style=\"text-align: right;\">\n",
       "      <th></th>\n",
       "      <th>Pregnancies</th>\n",
       "      <th>Glucose</th>\n",
       "      <th>BloodPressure</th>\n",
       "      <th>SkinThickness</th>\n",
       "      <th>Insulin</th>\n",
       "      <th>BMI</th>\n",
       "      <th>DiabetesPedigreeFunction</th>\n",
       "      <th>Age</th>\n",
       "    </tr>\n",
       "    <tr>\n",
       "      <th>Outcome</th>\n",
       "      <th></th>\n",
       "      <th></th>\n",
       "      <th></th>\n",
       "      <th></th>\n",
       "      <th></th>\n",
       "      <th></th>\n",
       "      <th></th>\n",
       "      <th></th>\n",
       "    </tr>\n",
       "  </thead>\n",
       "  <tbody>\n",
       "    <tr>\n",
       "      <th>0</th>\n",
       "      <td>3.298000</td>\n",
       "      <td>109.980000</td>\n",
       "      <td>68.184000</td>\n",
       "      <td>19.664000</td>\n",
       "      <td>68.792000</td>\n",
       "      <td>30.304200</td>\n",
       "      <td>0.429734</td>\n",
       "      <td>31.190000</td>\n",
       "    </tr>\n",
       "    <tr>\n",
       "      <th>1</th>\n",
       "      <td>4.865672</td>\n",
       "      <td>141.257463</td>\n",
       "      <td>70.824627</td>\n",
       "      <td>22.164179</td>\n",
       "      <td>100.335821</td>\n",
       "      <td>35.142537</td>\n",
       "      <td>0.550500</td>\n",
       "      <td>37.067164</td>\n",
       "    </tr>\n",
       "  </tbody>\n",
       "</table>\n",
       "</div>"
      ],
      "text/plain": [
       "         Pregnancies     Glucose  BloodPressure  SkinThickness     Insulin  \\\n",
       "Outcome                                                                      \n",
       "0           3.298000  109.980000      68.184000      19.664000   68.792000   \n",
       "1           4.865672  141.257463      70.824627      22.164179  100.335821   \n",
       "\n",
       "               BMI  DiabetesPedigreeFunction        Age  \n",
       "Outcome                                                  \n",
       "0        30.304200                  0.429734  31.190000  \n",
       "1        35.142537                  0.550500  37.067164  "
      ]
     },
     "execution_count": 9,
     "metadata": {},
     "output_type": "execute_result"
    }
   ],
   "source": [
    "# calculateing the mean value\n",
    "diabetes_dataset.groupby('Outcome').mean()"
   ]
  },
  {
   "cell_type": "code",
   "execution_count": 10,
   "id": "c8140512",
   "metadata": {
    "execution": {
     "iopub.execute_input": "2024-02-13T05:37:48.847391Z",
     "iopub.status.busy": "2024-02-13T05:37:48.846906Z",
     "iopub.status.idle": "2024-02-13T05:37:48.855780Z",
     "shell.execute_reply": "2024-02-13T05:37:48.854411Z"
    },
    "papermill": {
     "duration": 0.025266,
     "end_time": "2024-02-13T05:37:48.858411",
     "exception": false,
     "start_time": "2024-02-13T05:37:48.833145",
     "status": "completed"
    },
    "tags": []
   },
   "outputs": [],
   "source": [
    "#seperating data and lables\n",
    "X = diabetes_dataset.drop(columns = 'Outcome',axis =1)\n",
    "Y = diabetes_dataset['Outcome']"
   ]
  },
  {
   "cell_type": "code",
   "execution_count": 11,
   "id": "ab8e0cfc",
   "metadata": {
    "execution": {
     "iopub.execute_input": "2024-02-13T05:37:48.884668Z",
     "iopub.status.busy": "2024-02-13T05:37:48.884242Z",
     "iopub.status.idle": "2024-02-13T05:37:48.896935Z",
     "shell.execute_reply": "2024-02-13T05:37:48.895445Z"
    },
    "papermill": {
     "duration": 0.028688,
     "end_time": "2024-02-13T05:37:48.899705",
     "exception": false,
     "start_time": "2024-02-13T05:37:48.871017",
     "status": "completed"
    },
    "tags": []
   },
   "outputs": [
    {
     "name": "stdout",
     "output_type": "stream",
     "text": [
      "     Pregnancies  Glucose  BloodPressure  SkinThickness  Insulin   BMI  \\\n",
      "0              6      148             72             35        0  33.6   \n",
      "1              1       85             66             29        0  26.6   \n",
      "2              8      183             64              0        0  23.3   \n",
      "3              1       89             66             23       94  28.1   \n",
      "4              0      137             40             35      168  43.1   \n",
      "..           ...      ...            ...            ...      ...   ...   \n",
      "763           10      101             76             48      180  32.9   \n",
      "764            2      122             70             27        0  36.8   \n",
      "765            5      121             72             23      112  26.2   \n",
      "766            1      126             60              0        0  30.1   \n",
      "767            1       93             70             31        0  30.4   \n",
      "\n",
      "     DiabetesPedigreeFunction  Age  \n",
      "0                       0.627   50  \n",
      "1                       0.351   31  \n",
      "2                       0.672   32  \n",
      "3                       0.167   21  \n",
      "4                       2.288   33  \n",
      "..                        ...  ...  \n",
      "763                     0.171   63  \n",
      "764                     0.340   27  \n",
      "765                     0.245   30  \n",
      "766                     0.349   47  \n",
      "767                     0.315   23  \n",
      "\n",
      "[768 rows x 8 columns]\n"
     ]
    }
   ],
   "source": [
    "print(X)"
   ]
  },
  {
   "cell_type": "code",
   "execution_count": 12,
   "id": "857e3484",
   "metadata": {
    "execution": {
     "iopub.execute_input": "2024-02-13T05:37:48.927511Z",
     "iopub.status.busy": "2024-02-13T05:37:48.927070Z",
     "iopub.status.idle": "2024-02-13T05:37:48.933353Z",
     "shell.execute_reply": "2024-02-13T05:37:48.932297Z"
    },
    "papermill": {
     "duration": 0.023446,
     "end_time": "2024-02-13T05:37:48.936169",
     "exception": false,
     "start_time": "2024-02-13T05:37:48.912723",
     "status": "completed"
    },
    "tags": []
   },
   "outputs": [
    {
     "name": "stdout",
     "output_type": "stream",
     "text": [
      "0      1\n",
      "1      0\n",
      "2      1\n",
      "3      0\n",
      "4      1\n",
      "      ..\n",
      "763    0\n",
      "764    0\n",
      "765    0\n",
      "766    1\n",
      "767    0\n",
      "Name: Outcome, Length: 768, dtype: int64\n"
     ]
    }
   ],
   "source": [
    "print(Y)"
   ]
  },
  {
   "cell_type": "markdown",
   "id": "e66407e9",
   "metadata": {
    "papermill": {
     "duration": 0.011953,
     "end_time": "2024-02-13T05:37:48.961046",
     "exception": false,
     "start_time": "2024-02-13T05:37:48.949093",
     "status": "completed"
    },
    "tags": []
   },
   "source": [
    "# Data Standardization"
   ]
  },
  {
   "cell_type": "code",
   "execution_count": 13,
   "id": "3071f070",
   "metadata": {
    "execution": {
     "iopub.execute_input": "2024-02-13T05:37:48.987496Z",
     "iopub.status.busy": "2024-02-13T05:37:48.987019Z",
     "iopub.status.idle": "2024-02-13T05:37:48.992354Z",
     "shell.execute_reply": "2024-02-13T05:37:48.990899Z"
    },
    "papermill": {
     "duration": 0.021573,
     "end_time": "2024-02-13T05:37:48.994861",
     "exception": false,
     "start_time": "2024-02-13T05:37:48.973288",
     "status": "completed"
    },
    "tags": []
   },
   "outputs": [],
   "source": [
    "scaler = StandardScaler()"
   ]
  },
  {
   "cell_type": "code",
   "execution_count": 14,
   "id": "5925f303",
   "metadata": {
    "execution": {
     "iopub.execute_input": "2024-02-13T05:37:49.022465Z",
     "iopub.status.busy": "2024-02-13T05:37:49.022017Z",
     "iopub.status.idle": "2024-02-13T05:37:49.035337Z",
     "shell.execute_reply": "2024-02-13T05:37:49.034005Z"
    },
    "papermill": {
     "duration": 0.029634,
     "end_time": "2024-02-13T05:37:49.037720",
     "exception": false,
     "start_time": "2024-02-13T05:37:49.008086",
     "status": "completed"
    },
    "tags": []
   },
   "outputs": [
    {
     "data": {
      "text/html": [
       "<style>#sk-container-id-1 {color: black;background-color: white;}#sk-container-id-1 pre{padding: 0;}#sk-container-id-1 div.sk-toggleable {background-color: white;}#sk-container-id-1 label.sk-toggleable__label {cursor: pointer;display: block;width: 100%;margin-bottom: 0;padding: 0.3em;box-sizing: border-box;text-align: center;}#sk-container-id-1 label.sk-toggleable__label-arrow:before {content: \"▸\";float: left;margin-right: 0.25em;color: #696969;}#sk-container-id-1 label.sk-toggleable__label-arrow:hover:before {color: black;}#sk-container-id-1 div.sk-estimator:hover label.sk-toggleable__label-arrow:before {color: black;}#sk-container-id-1 div.sk-toggleable__content {max-height: 0;max-width: 0;overflow: hidden;text-align: left;background-color: #f0f8ff;}#sk-container-id-1 div.sk-toggleable__content pre {margin: 0.2em;color: black;border-radius: 0.25em;background-color: #f0f8ff;}#sk-container-id-1 input.sk-toggleable__control:checked~div.sk-toggleable__content {max-height: 200px;max-width: 100%;overflow: auto;}#sk-container-id-1 input.sk-toggleable__control:checked~label.sk-toggleable__label-arrow:before {content: \"▾\";}#sk-container-id-1 div.sk-estimator input.sk-toggleable__control:checked~label.sk-toggleable__label {background-color: #d4ebff;}#sk-container-id-1 div.sk-label input.sk-toggleable__control:checked~label.sk-toggleable__label {background-color: #d4ebff;}#sk-container-id-1 input.sk-hidden--visually {border: 0;clip: rect(1px 1px 1px 1px);clip: rect(1px, 1px, 1px, 1px);height: 1px;margin: -1px;overflow: hidden;padding: 0;position: absolute;width: 1px;}#sk-container-id-1 div.sk-estimator {font-family: monospace;background-color: #f0f8ff;border: 1px dotted black;border-radius: 0.25em;box-sizing: border-box;margin-bottom: 0.5em;}#sk-container-id-1 div.sk-estimator:hover {background-color: #d4ebff;}#sk-container-id-1 div.sk-parallel-item::after {content: \"\";width: 100%;border-bottom: 1px solid gray;flex-grow: 1;}#sk-container-id-1 div.sk-label:hover label.sk-toggleable__label {background-color: #d4ebff;}#sk-container-id-1 div.sk-serial::before {content: \"\";position: absolute;border-left: 1px solid gray;box-sizing: border-box;top: 0;bottom: 0;left: 50%;z-index: 0;}#sk-container-id-1 div.sk-serial {display: flex;flex-direction: column;align-items: center;background-color: white;padding-right: 0.2em;padding-left: 0.2em;position: relative;}#sk-container-id-1 div.sk-item {position: relative;z-index: 1;}#sk-container-id-1 div.sk-parallel {display: flex;align-items: stretch;justify-content: center;background-color: white;position: relative;}#sk-container-id-1 div.sk-item::before, #sk-container-id-1 div.sk-parallel-item::before {content: \"\";position: absolute;border-left: 1px solid gray;box-sizing: border-box;top: 0;bottom: 0;left: 50%;z-index: -1;}#sk-container-id-1 div.sk-parallel-item {display: flex;flex-direction: column;z-index: 1;position: relative;background-color: white;}#sk-container-id-1 div.sk-parallel-item:first-child::after {align-self: flex-end;width: 50%;}#sk-container-id-1 div.sk-parallel-item:last-child::after {align-self: flex-start;width: 50%;}#sk-container-id-1 div.sk-parallel-item:only-child::after {width: 0;}#sk-container-id-1 div.sk-dashed-wrapped {border: 1px dashed gray;margin: 0 0.4em 0.5em 0.4em;box-sizing: border-box;padding-bottom: 0.4em;background-color: white;}#sk-container-id-1 div.sk-label label {font-family: monospace;font-weight: bold;display: inline-block;line-height: 1.2em;}#sk-container-id-1 div.sk-label-container {text-align: center;}#sk-container-id-1 div.sk-container {/* jupyter's `normalize.less` sets `[hidden] { display: none; }` but bootstrap.min.css set `[hidden] { display: none !important; }` so we also need the `!important` here to be able to override the default hidden behavior on the sphinx rendered scikit-learn.org. See: https://github.com/scikit-learn/scikit-learn/issues/21755 */display: inline-block !important;position: relative;}#sk-container-id-1 div.sk-text-repr-fallback {display: none;}</style><div id=\"sk-container-id-1\" class=\"sk-top-container\"><div class=\"sk-text-repr-fallback\"><pre>StandardScaler()</pre><b>In a Jupyter environment, please rerun this cell to show the HTML representation or trust the notebook. <br />On GitHub, the HTML representation is unable to render, please try loading this page with nbviewer.org.</b></div><div class=\"sk-container\" hidden><div class=\"sk-item\"><div class=\"sk-estimator sk-toggleable\"><input class=\"sk-toggleable__control sk-hidden--visually\" id=\"sk-estimator-id-1\" type=\"checkbox\" checked><label for=\"sk-estimator-id-1\" class=\"sk-toggleable__label sk-toggleable__label-arrow\">StandardScaler</label><div class=\"sk-toggleable__content\"><pre>StandardScaler()</pre></div></div></div></div></div>"
      ],
      "text/plain": [
       "StandardScaler()"
      ]
     },
     "execution_count": 14,
     "metadata": {},
     "output_type": "execute_result"
    }
   ],
   "source": [
    "scaler.fit(X)"
   ]
  },
  {
   "cell_type": "code",
   "execution_count": 15,
   "id": "86eba551",
   "metadata": {
    "execution": {
     "iopub.execute_input": "2024-02-13T05:37:49.064648Z",
     "iopub.status.busy": "2024-02-13T05:37:49.064140Z",
     "iopub.status.idle": "2024-02-13T05:37:49.072683Z",
     "shell.execute_reply": "2024-02-13T05:37:49.071157Z"
    },
    "papermill": {
     "duration": 0.025136,
     "end_time": "2024-02-13T05:37:49.075191",
     "exception": false,
     "start_time": "2024-02-13T05:37:49.050055",
     "status": "completed"
    },
    "tags": []
   },
   "outputs": [],
   "source": [
    "stand_data = scaler.transform(X)"
   ]
  },
  {
   "cell_type": "code",
   "execution_count": 16,
   "id": "982a54dc",
   "metadata": {
    "execution": {
     "iopub.execute_input": "2024-02-13T05:37:49.102329Z",
     "iopub.status.busy": "2024-02-13T05:37:49.101836Z",
     "iopub.status.idle": "2024-02-13T05:37:49.108910Z",
     "shell.execute_reply": "2024-02-13T05:37:49.107767Z"
    },
    "papermill": {
     "duration": 0.023827,
     "end_time": "2024-02-13T05:37:49.111300",
     "exception": false,
     "start_time": "2024-02-13T05:37:49.087473",
     "status": "completed"
    },
    "tags": []
   },
   "outputs": [
    {
     "name": "stdout",
     "output_type": "stream",
     "text": [
      "[[ 0.63994726  0.84832379  0.14964075 ...  0.20401277  0.46849198\n",
      "   1.4259954 ]\n",
      " [-0.84488505 -1.12339636 -0.16054575 ... -0.68442195 -0.36506078\n",
      "  -0.19067191]\n",
      " [ 1.23388019  1.94372388 -0.26394125 ... -1.10325546  0.60439732\n",
      "  -0.10558415]\n",
      " ...\n",
      " [ 0.3429808   0.00330087  0.14964075 ... -0.73518964 -0.68519336\n",
      "  -0.27575966]\n",
      " [-0.84488505  0.1597866  -0.47073225 ... -0.24020459 -0.37110101\n",
      "   1.17073215]\n",
      " [-0.84488505 -0.8730192   0.04624525 ... -0.20212881 -0.47378505\n",
      "  -0.87137393]]\n"
     ]
    }
   ],
   "source": [
    "print(stand_data)"
   ]
  },
  {
   "cell_type": "code",
   "execution_count": 17,
   "id": "6855abb9",
   "metadata": {
    "execution": {
     "iopub.execute_input": "2024-02-13T05:37:49.138880Z",
     "iopub.status.busy": "2024-02-13T05:37:49.138409Z",
     "iopub.status.idle": "2024-02-13T05:37:49.143413Z",
     "shell.execute_reply": "2024-02-13T05:37:49.142306Z"
    },
    "papermill": {
     "duration": 0.021937,
     "end_time": "2024-02-13T05:37:49.145779",
     "exception": false,
     "start_time": "2024-02-13T05:37:49.123842",
     "status": "completed"
    },
    "tags": []
   },
   "outputs": [],
   "source": [
    "X = stand_data"
   ]
  },
  {
   "cell_type": "code",
   "execution_count": 18,
   "id": "fab2bd59",
   "metadata": {
    "execution": {
     "iopub.execute_input": "2024-02-13T05:37:49.173068Z",
     "iopub.status.busy": "2024-02-13T05:37:49.172621Z",
     "iopub.status.idle": "2024-02-13T05:37:49.178904Z",
     "shell.execute_reply": "2024-02-13T05:37:49.177737Z"
    },
    "papermill": {
     "duration": 0.023032,
     "end_time": "2024-02-13T05:37:49.181319",
     "exception": false,
     "start_time": "2024-02-13T05:37:49.158287",
     "status": "completed"
    },
    "tags": []
   },
   "outputs": [
    {
     "name": "stdout",
     "output_type": "stream",
     "text": [
      "[[ 0.63994726  0.84832379  0.14964075 ...  0.20401277  0.46849198\n",
      "   1.4259954 ]\n",
      " [-0.84488505 -1.12339636 -0.16054575 ... -0.68442195 -0.36506078\n",
      "  -0.19067191]\n",
      " [ 1.23388019  1.94372388 -0.26394125 ... -1.10325546  0.60439732\n",
      "  -0.10558415]\n",
      " ...\n",
      " [ 0.3429808   0.00330087  0.14964075 ... -0.73518964 -0.68519336\n",
      "  -0.27575966]\n",
      " [-0.84488505  0.1597866  -0.47073225 ... -0.24020459 -0.37110101\n",
      "   1.17073215]\n",
      " [-0.84488505 -0.8730192   0.04624525 ... -0.20212881 -0.47378505\n",
      "  -0.87137393]]\n"
     ]
    }
   ],
   "source": [
    "print(X)"
   ]
  },
  {
   "cell_type": "markdown",
   "id": "18387677",
   "metadata": {
    "papermill": {
     "duration": 0.012736,
     "end_time": "2024-02-13T05:37:49.207010",
     "exception": false,
     "start_time": "2024-02-13T05:37:49.194274",
     "status": "completed"
    },
    "tags": []
   },
   "source": [
    "# Spliting the data for test and train"
   ]
  },
  {
   "cell_type": "code",
   "execution_count": 19,
   "id": "e090497e",
   "metadata": {
    "execution": {
     "iopub.execute_input": "2024-02-13T05:37:49.234596Z",
     "iopub.status.busy": "2024-02-13T05:37:49.233725Z",
     "iopub.status.idle": "2024-02-13T05:37:49.243836Z",
     "shell.execute_reply": "2024-02-13T05:37:49.242506Z"
    },
    "papermill": {
     "duration": 0.026795,
     "end_time": "2024-02-13T05:37:49.246489",
     "exception": false,
     "start_time": "2024-02-13T05:37:49.219694",
     "status": "completed"
    },
    "tags": []
   },
   "outputs": [],
   "source": [
    "X_train , X_test, Y_train ,Y_test = train_test_split(X, Y, test_size = 0.2 , stratify=Y, random_state=2)"
   ]
  },
  {
   "cell_type": "code",
   "execution_count": 20,
   "id": "29683d67",
   "metadata": {
    "execution": {
     "iopub.execute_input": "2024-02-13T05:37:49.273822Z",
     "iopub.status.busy": "2024-02-13T05:37:49.273337Z",
     "iopub.status.idle": "2024-02-13T05:37:49.280446Z",
     "shell.execute_reply": "2024-02-13T05:37:49.278708Z"
    },
    "papermill": {
     "duration": 0.023954,
     "end_time": "2024-02-13T05:37:49.282972",
     "exception": false,
     "start_time": "2024-02-13T05:37:49.259018",
     "status": "completed"
    },
    "tags": []
   },
   "outputs": [
    {
     "name": "stdout",
     "output_type": "stream",
     "text": [
      "(768, 8) (614, 8) (154, 8)\n"
     ]
    }
   ],
   "source": [
    "print(X.shape , X_train.shape, X_test.shape)"
   ]
  },
  {
   "cell_type": "markdown",
   "id": "0139c520",
   "metadata": {
    "papermill": {
     "duration": 0.012113,
     "end_time": "2024-02-13T05:37:49.307721",
     "exception": false,
     "start_time": "2024-02-13T05:37:49.295608",
     "status": "completed"
    },
    "tags": []
   },
   "source": [
    "# Training the Data"
   ]
  },
  {
   "cell_type": "code",
   "execution_count": 21,
   "id": "8c367499",
   "metadata": {
    "execution": {
     "iopub.execute_input": "2024-02-13T05:37:49.335492Z",
     "iopub.status.busy": "2024-02-13T05:37:49.334962Z",
     "iopub.status.idle": "2024-02-13T05:37:49.340615Z",
     "shell.execute_reply": "2024-02-13T05:37:49.339468Z"
    },
    "papermill": {
     "duration": 0.02269,
     "end_time": "2024-02-13T05:37:49.342902",
     "exception": false,
     "start_time": "2024-02-13T05:37:49.320212",
     "status": "completed"
    },
    "tags": []
   },
   "outputs": [],
   "source": [
    "classifier = svm.SVC(kernel = 'linear')"
   ]
  },
  {
   "cell_type": "code",
   "execution_count": 22,
   "id": "17c4bd8a",
   "metadata": {
    "execution": {
     "iopub.execute_input": "2024-02-13T05:37:49.371823Z",
     "iopub.status.busy": "2024-02-13T05:37:49.371364Z",
     "iopub.status.idle": "2024-02-13T05:37:49.397471Z",
     "shell.execute_reply": "2024-02-13T05:37:49.396084Z"
    },
    "papermill": {
     "duration": 0.043868,
     "end_time": "2024-02-13T05:37:49.400075",
     "exception": false,
     "start_time": "2024-02-13T05:37:49.356207",
     "status": "completed"
    },
    "tags": []
   },
   "outputs": [
    {
     "data": {
      "text/html": [
       "<style>#sk-container-id-2 {color: black;background-color: white;}#sk-container-id-2 pre{padding: 0;}#sk-container-id-2 div.sk-toggleable {background-color: white;}#sk-container-id-2 label.sk-toggleable__label {cursor: pointer;display: block;width: 100%;margin-bottom: 0;padding: 0.3em;box-sizing: border-box;text-align: center;}#sk-container-id-2 label.sk-toggleable__label-arrow:before {content: \"▸\";float: left;margin-right: 0.25em;color: #696969;}#sk-container-id-2 label.sk-toggleable__label-arrow:hover:before {color: black;}#sk-container-id-2 div.sk-estimator:hover label.sk-toggleable__label-arrow:before {color: black;}#sk-container-id-2 div.sk-toggleable__content {max-height: 0;max-width: 0;overflow: hidden;text-align: left;background-color: #f0f8ff;}#sk-container-id-2 div.sk-toggleable__content pre {margin: 0.2em;color: black;border-radius: 0.25em;background-color: #f0f8ff;}#sk-container-id-2 input.sk-toggleable__control:checked~div.sk-toggleable__content {max-height: 200px;max-width: 100%;overflow: auto;}#sk-container-id-2 input.sk-toggleable__control:checked~label.sk-toggleable__label-arrow:before {content: \"▾\";}#sk-container-id-2 div.sk-estimator input.sk-toggleable__control:checked~label.sk-toggleable__label {background-color: #d4ebff;}#sk-container-id-2 div.sk-label input.sk-toggleable__control:checked~label.sk-toggleable__label {background-color: #d4ebff;}#sk-container-id-2 input.sk-hidden--visually {border: 0;clip: rect(1px 1px 1px 1px);clip: rect(1px, 1px, 1px, 1px);height: 1px;margin: -1px;overflow: hidden;padding: 0;position: absolute;width: 1px;}#sk-container-id-2 div.sk-estimator {font-family: monospace;background-color: #f0f8ff;border: 1px dotted black;border-radius: 0.25em;box-sizing: border-box;margin-bottom: 0.5em;}#sk-container-id-2 div.sk-estimator:hover {background-color: #d4ebff;}#sk-container-id-2 div.sk-parallel-item::after {content: \"\";width: 100%;border-bottom: 1px solid gray;flex-grow: 1;}#sk-container-id-2 div.sk-label:hover label.sk-toggleable__label {background-color: #d4ebff;}#sk-container-id-2 div.sk-serial::before {content: \"\";position: absolute;border-left: 1px solid gray;box-sizing: border-box;top: 0;bottom: 0;left: 50%;z-index: 0;}#sk-container-id-2 div.sk-serial {display: flex;flex-direction: column;align-items: center;background-color: white;padding-right: 0.2em;padding-left: 0.2em;position: relative;}#sk-container-id-2 div.sk-item {position: relative;z-index: 1;}#sk-container-id-2 div.sk-parallel {display: flex;align-items: stretch;justify-content: center;background-color: white;position: relative;}#sk-container-id-2 div.sk-item::before, #sk-container-id-2 div.sk-parallel-item::before {content: \"\";position: absolute;border-left: 1px solid gray;box-sizing: border-box;top: 0;bottom: 0;left: 50%;z-index: -1;}#sk-container-id-2 div.sk-parallel-item {display: flex;flex-direction: column;z-index: 1;position: relative;background-color: white;}#sk-container-id-2 div.sk-parallel-item:first-child::after {align-self: flex-end;width: 50%;}#sk-container-id-2 div.sk-parallel-item:last-child::after {align-self: flex-start;width: 50%;}#sk-container-id-2 div.sk-parallel-item:only-child::after {width: 0;}#sk-container-id-2 div.sk-dashed-wrapped {border: 1px dashed gray;margin: 0 0.4em 0.5em 0.4em;box-sizing: border-box;padding-bottom: 0.4em;background-color: white;}#sk-container-id-2 div.sk-label label {font-family: monospace;font-weight: bold;display: inline-block;line-height: 1.2em;}#sk-container-id-2 div.sk-label-container {text-align: center;}#sk-container-id-2 div.sk-container {/* jupyter's `normalize.less` sets `[hidden] { display: none; }` but bootstrap.min.css set `[hidden] { display: none !important; }` so we also need the `!important` here to be able to override the default hidden behavior on the sphinx rendered scikit-learn.org. See: https://github.com/scikit-learn/scikit-learn/issues/21755 */display: inline-block !important;position: relative;}#sk-container-id-2 div.sk-text-repr-fallback {display: none;}</style><div id=\"sk-container-id-2\" class=\"sk-top-container\"><div class=\"sk-text-repr-fallback\"><pre>SVC(kernel=&#x27;linear&#x27;)</pre><b>In a Jupyter environment, please rerun this cell to show the HTML representation or trust the notebook. <br />On GitHub, the HTML representation is unable to render, please try loading this page with nbviewer.org.</b></div><div class=\"sk-container\" hidden><div class=\"sk-item\"><div class=\"sk-estimator sk-toggleable\"><input class=\"sk-toggleable__control sk-hidden--visually\" id=\"sk-estimator-id-2\" type=\"checkbox\" checked><label for=\"sk-estimator-id-2\" class=\"sk-toggleable__label sk-toggleable__label-arrow\">SVC</label><div class=\"sk-toggleable__content\"><pre>SVC(kernel=&#x27;linear&#x27;)</pre></div></div></div></div></div>"
      ],
      "text/plain": [
       "SVC(kernel='linear')"
      ]
     },
     "execution_count": 22,
     "metadata": {},
     "output_type": "execute_result"
    }
   ],
   "source": [
    "#training the support vector machone claasifier\n",
    "classifier.fit(X_train,Y_train)"
   ]
  },
  {
   "cell_type": "markdown",
   "id": "e66e6863",
   "metadata": {
    "papermill": {
     "duration": 0.012371,
     "end_time": "2024-02-13T05:37:49.425255",
     "exception": false,
     "start_time": "2024-02-13T05:37:49.412884",
     "status": "completed"
    },
    "tags": []
   },
   "source": [
    "# Model Evalution\n",
    "**Accuracy Score**"
   ]
  },
  {
   "cell_type": "code",
   "execution_count": 23,
   "id": "94a9ee23",
   "metadata": {
    "execution": {
     "iopub.execute_input": "2024-02-13T05:37:49.452675Z",
     "iopub.status.busy": "2024-02-13T05:37:49.452207Z",
     "iopub.status.idle": "2024-02-13T05:37:49.464815Z",
     "shell.execute_reply": "2024-02-13T05:37:49.463590Z"
    },
    "papermill": {
     "duration": 0.029583,
     "end_time": "2024-02-13T05:37:49.467500",
     "exception": false,
     "start_time": "2024-02-13T05:37:49.437917",
     "status": "completed"
    },
    "tags": []
   },
   "outputs": [],
   "source": [
    "#accuray score on the training data\n",
    "X_train_prediction = classifier.predict(X_train)\n",
    "training_data_accuracy = accuracy_score(X_train_prediction, Y_train)"
   ]
  },
  {
   "cell_type": "code",
   "execution_count": 24,
   "id": "8a6f0593",
   "metadata": {
    "execution": {
     "iopub.execute_input": "2024-02-13T05:37:49.496362Z",
     "iopub.status.busy": "2024-02-13T05:37:49.494825Z",
     "iopub.status.idle": "2024-02-13T05:37:49.501768Z",
     "shell.execute_reply": "2024-02-13T05:37:49.500494Z"
    },
    "papermill": {
     "duration": 0.023637,
     "end_time": "2024-02-13T05:37:49.504048",
     "exception": false,
     "start_time": "2024-02-13T05:37:49.480411",
     "status": "completed"
    },
    "tags": []
   },
   "outputs": [
    {
     "name": "stdout",
     "output_type": "stream",
     "text": [
      "Accuracy score of the training data: 0.7866449511400652\n"
     ]
    }
   ],
   "source": [
    "print('Accuracy score of the training data:' , training_data_accuracy)"
   ]
  },
  {
   "cell_type": "code",
   "execution_count": 25,
   "id": "6aa31a84",
   "metadata": {
    "execution": {
     "iopub.execute_input": "2024-02-13T05:37:49.532322Z",
     "iopub.status.busy": "2024-02-13T05:37:49.531849Z",
     "iopub.status.idle": "2024-02-13T05:37:49.540458Z",
     "shell.execute_reply": "2024-02-13T05:37:49.538952Z"
    },
    "papermill": {
     "duration": 0.026152,
     "end_time": "2024-02-13T05:37:49.543457",
     "exception": false,
     "start_time": "2024-02-13T05:37:49.517305",
     "status": "completed"
    },
    "tags": []
   },
   "outputs": [],
   "source": [
    "#accuray score on the test data\n",
    "X_test_prediction = classifier.predict(X_test)\n",
    "testing_data_accuracy = accuracy_score(X_test_prediction, Y_test)"
   ]
  },
  {
   "cell_type": "code",
   "execution_count": 26,
   "id": "b85ab67d",
   "metadata": {
    "execution": {
     "iopub.execute_input": "2024-02-13T05:37:49.573019Z",
     "iopub.status.busy": "2024-02-13T05:37:49.572563Z",
     "iopub.status.idle": "2024-02-13T05:37:49.579094Z",
     "shell.execute_reply": "2024-02-13T05:37:49.577639Z"
    },
    "papermill": {
     "duration": 0.024769,
     "end_time": "2024-02-13T05:37:49.581766",
     "exception": false,
     "start_time": "2024-02-13T05:37:49.556997",
     "status": "completed"
    },
    "tags": []
   },
   "outputs": [
    {
     "name": "stdout",
     "output_type": "stream",
     "text": [
      "Accuracy score of the test data: 0.7727272727272727\n"
     ]
    }
   ],
   "source": [
    "print('Accuracy score of the test data:' , testing_data_accuracy)"
   ]
  },
  {
   "cell_type": "markdown",
   "id": "de452c68",
   "metadata": {
    "papermill": {
     "duration": 0.012824,
     "end_time": "2024-02-13T05:37:49.607836",
     "exception": false,
     "start_time": "2024-02-13T05:37:49.595012",
     "status": "completed"
    },
    "tags": []
   },
   "source": [
    "# Making a Predictive System"
   ]
  },
  {
   "cell_type": "code",
   "execution_count": 27,
   "id": "156154f2",
   "metadata": {
    "execution": {
     "iopub.execute_input": "2024-02-13T05:37:49.636661Z",
     "iopub.status.busy": "2024-02-13T05:37:49.636193Z",
     "iopub.status.idle": "2024-02-13T05:37:49.646299Z",
     "shell.execute_reply": "2024-02-13T05:37:49.644920Z"
    },
    "papermill": {
     "duration": 0.027731,
     "end_time": "2024-02-13T05:37:49.649262",
     "exception": false,
     "start_time": "2024-02-13T05:37:49.621531",
     "status": "completed"
    },
    "tags": []
   },
   "outputs": [
    {
     "name": "stdout",
     "output_type": "stream",
     "text": [
      "[[-1.14185152 -0.09059057  0.77001375  1.66000666  1.30417549  1.75242756\n",
      "   0.23896296 -0.19067191]]\n",
      "[0]\n",
      "The person is not diabetic\n"
     ]
    }
   ],
   "source": [
    "input_data = (0,118,84,47,230,45.8,0.551,31)\n",
    "\n",
    "#changing the input_data to numpy array\n",
    "input_data_as_numpy_array = np.asarray(input_data)\n",
    "\n",
    "#reshape the array as we are predicting for one instance\n",
    "input_data_reshape = input_data_as_numpy_array.reshape(1,-1)\n",
    "\n",
    "# standardize the input data\n",
    "std_data = scaler.transform(input_data_reshape)\n",
    "print(std_data)\n",
    "\n",
    "prediction = classifier.predict(std_data)\n",
    "print(prediction)\n",
    "\n",
    "if(prediction[0]==0):\n",
    "    print(\"The person is not diabetic\")\n",
    "else:\n",
    "    print(\"The person is diabetic\")"
   ]
  }
 ],
 "metadata": {
  "kaggle": {
   "accelerator": "none",
   "dataSources": [
    {
     "datasetId": 228,
     "sourceId": 482,
     "sourceType": "datasetVersion"
    }
   ],
   "dockerImageVersionId": 30646,
   "isGpuEnabled": false,
   "isInternetEnabled": false,
   "language": "python",
   "sourceType": "notebook"
  },
  "kernelspec": {
   "display_name": "Python 3",
   "language": "python",
   "name": "python3"
  },
  "language_info": {
   "codemirror_mode": {
    "name": "ipython",
    "version": 3
   },
   "file_extension": ".py",
   "mimetype": "text/x-python",
   "name": "python",
   "nbconvert_exporter": "python",
   "pygments_lexer": "ipython3",
   "version": "3.10.13"
  },
  "papermill": {
   "default_parameters": {},
   "duration": 7.860391,
   "end_time": "2024-02-13T05:37:50.387111",
   "environment_variables": {},
   "exception": null,
   "input_path": "__notebook__.ipynb",
   "output_path": "__notebook__.ipynb",
   "parameters": {},
   "start_time": "2024-02-13T05:37:42.526720",
   "version": "2.5.0"
  }
 },
 "nbformat": 4,
 "nbformat_minor": 5
}
