{
  "nbformat": 4,
  "nbformat_minor": 0,
  "metadata": {
    "colab": {
      "provenance": [],
      "authorship_tag": "ABX9TyMpY60/PdxxY86zL/9TJvs2",
      "include_colab_link": true
    },
    "kernelspec": {
      "name": "python3",
      "display_name": "Python 3"
    },
    "language_info": {
      "name": "python"
    }
  },
  "cells": [
    {
      "cell_type": "markdown",
      "metadata": {
        "id": "view-in-github",
        "colab_type": "text"
      },
      "source": [
        "<a href=\"https://colab.research.google.com/github/Deepak-Acharya/Machine-leaning-Basic-/blob/Learning-the-basics/Matrix_.ipynb\" target=\"_parent\"><img src=\"https://colab.research.google.com/assets/colab-badge.svg\" alt=\"Open In Colab\"/></a>"
      ]
    },
    {
      "cell_type": "code",
      "execution_count": null,
      "metadata": {
        "id": "0cQUpeWrH4Kf"
      },
      "outputs": [],
      "source": [
        "import numpy as np\n"
      ]
    },
    {
      "cell_type": "markdown",
      "source": [
        "Matrix using numpy"
      ],
      "metadata": {
        "id": "37RKzBNoJ34S"
      }
    },
    {
      "cell_type": "code",
      "source": [
        "matrix_1 = np.array([[2,3],[4,6]])\n",
        "print(matrix_1)"
      ],
      "metadata": {
        "colab": {
          "base_uri": "https://localhost:8080/"
        },
        "id": "-APGoW2LJ2HE",
        "outputId": "65283554-9b5f-4644-b746-eaa0a4bd4534"
      },
      "execution_count": null,
      "outputs": [
        {
          "output_type": "stream",
          "name": "stdout",
          "text": [
            "[[2 3]\n",
            " [4 6]]\n"
          ]
        }
      ]
    },
    {
      "cell_type": "code",
      "source": [
        "matrix_1.shape"
      ],
      "metadata": {
        "colab": {
          "base_uri": "https://localhost:8080/"
        },
        "id": "W6KZ3z3BKsdL",
        "outputId": "578e321e-2317-4b5a-cd27-120a3bd6e35a"
      },
      "execution_count": null,
      "outputs": [
        {
          "output_type": "execute_result",
          "data": {
            "text/plain": [
              "(2, 2)"
            ]
          },
          "metadata": {},
          "execution_count": 4
        }
      ]
    },
    {
      "cell_type": "code",
      "source": [
        "matrix_2 = np.array([[2,5,8],[22,33,11],[20,15,90]])\n",
        "print(matrix_2)"
      ],
      "metadata": {
        "colab": {
          "base_uri": "https://localhost:8080/"
        },
        "id": "3Zgv6KfaKwGq",
        "outputId": "e937a0f9-bc0c-4e2d-e07a-a40505d00622"
      },
      "execution_count": null,
      "outputs": [
        {
          "output_type": "stream",
          "name": "stdout",
          "text": [
            "[[ 2  5  8]\n",
            " [22 33 11]\n",
            " [20 15 90]]\n"
          ]
        }
      ]
    },
    {
      "cell_type": "markdown",
      "source": [
        "Creating matrix with random value"
      ],
      "metadata": {
        "id": "bro_ujSuLHr8"
      }
    },
    {
      "cell_type": "code",
      "source": [
        "random_matrix = np.random.rand(3,3)\n",
        "print(random_matrix)"
      ],
      "metadata": {
        "colab": {
          "base_uri": "https://localhost:8080/"
        },
        "id": "1Ea9vlYPLKY2",
        "outputId": "211a47e2-5cca-492e-eab5-873b9cddde5b"
      },
      "execution_count": null,
      "outputs": [
        {
          "output_type": "stream",
          "name": "stdout",
          "text": [
            "[[0.65692782 0.19932126 0.38784653]\n",
            " [0.2908991  0.02235506 0.60775126]\n",
            " [0.17483848 0.94538679 0.52371277]]\n"
          ]
        }
      ]
    },
    {
      "cell_type": "code",
      "source": [
        "random_matrix_int = np.random.randint(100,size =(4,5))\n",
        "print(random_matrix_int)"
      ],
      "metadata": {
        "colab": {
          "base_uri": "https://localhost:8080/"
        },
        "id": "fI3NJw4vLUry",
        "outputId": "b0c668bd-08c3-49b3-b2ed-ee4e388e472a"
      },
      "execution_count": null,
      "outputs": [
        {
          "output_type": "stream",
          "name": "stdout",
          "text": [
            "[[23 39 20 56 51]\n",
            " [92  8 78 19 57]\n",
            " [77 86 40 49 45]\n",
            " [82 11 43 35 75]]\n"
          ]
        }
      ]
    },
    {
      "cell_type": "markdown",
      "source": [
        "Matrix with all the ones"
      ],
      "metadata": {
        "id": "I4EDl7nFMQhO"
      }
    },
    {
      "cell_type": "code",
      "source": [
        "matrix_3 = np.ones((2,3))\n",
        "print(matrix_3)"
      ],
      "metadata": {
        "colab": {
          "base_uri": "https://localhost:8080/"
        },
        "id": "KZ8KZELeMFB3",
        "outputId": "3d1ae9a3-85e6-46a4-c8b5-0a35abd4e7f5"
      },
      "execution_count": null,
      "outputs": [
        {
          "output_type": "stream",
          "name": "stdout",
          "text": [
            "[[1. 1. 1.]\n",
            " [1. 1. 1.]]\n"
          ]
        }
      ]
    },
    {
      "cell_type": "markdown",
      "source": [
        "Null Matrix"
      ],
      "metadata": {
        "id": "TIRQCONCM2Wy"
      }
    },
    {
      "cell_type": "code",
      "source": [
        "matrix_4 = np.zeros((4,4),dtype =int)\n",
        "print(matrix_4)"
      ],
      "metadata": {
        "colab": {
          "base_uri": "https://localhost:8080/"
        },
        "id": "nRqRWJMqMc-P",
        "outputId": "16b81f9c-43c0-4596-83e0-e68db0e969fc"
      },
      "execution_count": null,
      "outputs": [
        {
          "output_type": "stream",
          "name": "stdout",
          "text": [
            "[[0 0 0 0]\n",
            " [0 0 0 0]\n",
            " [0 0 0 0]\n",
            " [0 0 0 0]]\n"
          ]
        }
      ]
    },
    {
      "cell_type": "markdown",
      "source": [
        "Identity Matrix"
      ],
      "metadata": {
        "id": "YojCdGvCNE28"
      }
    },
    {
      "cell_type": "code",
      "source": [
        "imatrix = np.eye(3,3)\n",
        "print(imatrix)"
      ],
      "metadata": {
        "colab": {
          "base_uri": "https://localhost:8080/"
        },
        "id": "guR5AVPpNALo",
        "outputId": "a4a94ab9-2904-481b-a8ea-61917db45311"
      },
      "execution_count": null,
      "outputs": [
        {
          "output_type": "stream",
          "name": "stdout",
          "text": [
            "[[1. 0. 0.]\n",
            " [0. 1. 0.]\n",
            " [0. 0. 1.]]\n"
          ]
        }
      ]
    },
    {
      "cell_type": "markdown",
      "source": [
        "Transpose of matrix"
      ],
      "metadata": {
        "id": "JwktuF4_NZT_"
      }
    },
    {
      "cell_type": "code",
      "source": [
        "a = np.random.randint(100 , size = (4,5))\n",
        "print(a)"
      ],
      "metadata": {
        "colab": {
          "base_uri": "https://localhost:8080/"
        },
        "id": "ON9UxkrpNMXD",
        "outputId": "e0b78493-d69d-4d11-c521-05cb838eab5a"
      },
      "execution_count": null,
      "outputs": [
        {
          "output_type": "stream",
          "name": "stdout",
          "text": [
            "[[48 61 92 18  4]\n",
            " [91 95 44 33 91]\n",
            " [82  1 56 73 19]\n",
            " [60 43 67 48 98]]\n"
          ]
        }
      ]
    },
    {
      "cell_type": "code",
      "source": [
        "transpose = np.transpose(a)\n",
        "print(transpose)"
      ],
      "metadata": {
        "colab": {
          "base_uri": "https://localhost:8080/"
        },
        "id": "hE4J3zs8Nnb-",
        "outputId": "f261a98c-59c1-4391-89ec-86d15a050829"
      },
      "execution_count": null,
      "outputs": [
        {
          "output_type": "stream",
          "name": "stdout",
          "text": [
            "[[48 91 82 60]\n",
            " [61 95  1 43]\n",
            " [92 44 56 67]\n",
            " [18 33 73 48]\n",
            " [ 4 91 19 98]]\n"
          ]
        }
      ]
    },
    {
      "cell_type": "markdown",
      "source": [
        "Matrix Addition"
      ],
      "metadata": {
        "id": "hwE96_UsjSqL"
      }
    },
    {
      "cell_type": "code",
      "source": [
        "a = np.array([[2,3],[4,5]])\n",
        "b = np.array([[6,7],[8,9]])\n",
        "\n",
        "sum = a+b\n",
        "print(sum)"
      ],
      "metadata": {
        "colab": {
          "base_uri": "https://localhost:8080/"
        },
        "id": "qPBfIoWbN3Pr",
        "outputId": "5fe561f1-4f2b-4381-d3cc-1f950483ed4a"
      },
      "execution_count": null,
      "outputs": [
        {
          "output_type": "stream",
          "name": "stdout",
          "text": [
            "[[ 8 10]\n",
            " [12 14]]\n"
          ]
        }
      ]
    },
    {
      "cell_type": "code",
      "source": [
        "A = np.random.randint(100 ,size= (4,3))\n",
        "B  = np.random.randint(200, size = (4,3))\n",
        "\n",
        "sum = A+B\n",
        "print(sum)"
      ],
      "metadata": {
        "colab": {
          "base_uri": "https://localhost:8080/"
        },
        "id": "hN2XylKsj4cJ",
        "outputId": "95eb45cd-7054-4b27-f932-c49b54467507"
      },
      "execution_count": null,
      "outputs": [
        {
          "output_type": "stream",
          "name": "stdout",
          "text": [
            "[[ 82  99  86]\n",
            " [112 111 182]\n",
            " [101 201  74]\n",
            " [200 225 163]]\n"
          ]
        }
      ]
    },
    {
      "cell_type": "markdown",
      "source": [
        "Matrix Subtraction"
      ],
      "metadata": {
        "id": "HD6FUImdkisj"
      }
    },
    {
      "cell_type": "code",
      "source": [
        "difference = A-B\n",
        "print(difference)"
      ],
      "metadata": {
        "colab": {
          "base_uri": "https://localhost:8080/"
        },
        "id": "F0gELIPckMsj",
        "outputId": "e10a4e69-330a-4041-8172-c6d9a6dcf87f"
      },
      "execution_count": null,
      "outputs": [
        {
          "output_type": "stream",
          "name": "stdout",
          "text": [
            "[[ -50  -21  -42]\n",
            " [  54   65  -48]\n",
            " [  63  -23   32]\n",
            " [-168 -105 -121]]\n"
          ]
        }
      ]
    },
    {
      "cell_type": "markdown",
      "source": [
        "Multiplying a Matrix with scalar\n"
      ],
      "metadata": {
        "id": "wYTlYvP8k4L2"
      }
    },
    {
      "cell_type": "code",
      "source": [
        "x = 6\n",
        "y  = np.random.randint(20 , size =(4,4))\n",
        "\n",
        "z = np.multiply(x,y)\n",
        "print(z)"
      ],
      "metadata": {
        "colab": {
          "base_uri": "https://localhost:8080/"
        },
        "id": "I00CsEYIkreF",
        "outputId": "294029c3-3fd4-4664-86c2-0c47f260734a"
      },
      "execution_count": null,
      "outputs": [
        {
          "output_type": "stream",
          "name": "stdout",
          "text": [
            "[[ 90  36 102 108]\n",
            " [ 54  60  84   0]\n",
            " [  0 108  12   0]\n",
            " [ 30  12  36  90]]\n"
          ]
        }
      ]
    },
    {
      "cell_type": "markdown",
      "source": [
        "Multiplying two matrix"
      ],
      "metadata": {
        "id": "mXeYo4lGlR-0"
      }
    },
    {
      "cell_type": "code",
      "source": [
        "A = np.random.randint(100 ,size= (4,3))\n",
        "B  = np.random.randint(200, size = (3,3))\n",
        "\n",
        "mutiply = np.dot(A,B)\n",
        "print(mutiply)"
      ],
      "metadata": {
        "colab": {
          "base_uri": "https://localhost:8080/"
        },
        "id": "TTZsCENTlK-q",
        "outputId": "ce5572e0-d286-486e-a51a-4ce187ec292c"
      },
      "execution_count": null,
      "outputs": [
        {
          "output_type": "stream",
          "name": "stdout",
          "text": [
            "[[34438 27238  9720]\n",
            " [21581 18461  3832]\n",
            " [22618 24898  6400]\n",
            " [22612 23830  9674]]\n"
          ]
        }
      ]
    },
    {
      "cell_type": "code",
      "source": [],
      "metadata": {
        "id": "tz9OwQjNlo4J"
      },
      "execution_count": null,
      "outputs": []
    }
  ]
}