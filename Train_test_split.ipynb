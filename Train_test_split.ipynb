{
  "nbformat": 4,
  "nbformat_minor": 0,
  "metadata": {
    "colab": {
      "provenance": [],
      "authorship_tag": "ABX9TyMG1p5eThOE7ZUBV/VRUpp4",
      "include_colab_link": true
    },
    "kernelspec": {
      "name": "python3",
      "display_name": "Python 3"
    },
    "language_info": {
      "name": "python"
    }
  },
  "cells": [
    {
      "cell_type": "markdown",
      "metadata": {
        "id": "view-in-github",
        "colab_type": "text"
      },
      "source": [
        "<a href=\"https://colab.research.google.com/github/Deepak-Acharya/Machine-leaning-Basic-/blob/Learning-the-basics/Train_test_split.ipynb\" target=\"_parent\"><img src=\"https://colab.research.google.com/assets/colab-badge.svg\" alt=\"Open In Colab\"/></a>"
      ]
    },
    {
      "cell_type": "code",
      "execution_count": null,
      "metadata": {
        "id": "2L_6Zbwb2D_B",
        "colab": {
          "base_uri": "https://localhost:8080/"
        },
        "outputId": "f62c9ad4-5eba-4055-84e0-cca59a952317"
      },
      "outputs": [
        {
          "output_type": "stream",
          "name": "stdout",
          "text": [
            "2\n"
          ]
        }
      ],
      "source": [
        "def levenshtein_distance(str1, str2):\n",
        "    if not str1:\n",
        "        return len(str2)\n",
        "    if not str2:\n",
        "        return len(str1)\n",
        "\n",
        "    cost = 0 if str1[-1] == str2[-1] else 1\n",
        "\n",
        "    return min(\n",
        "        levenshtein_distance(str1[:-1], str2) + 1,      # Deletion\n",
        "        levenshtein_distance(str1, str2[:-1]) + 1,      # Insertion\n",
        "        levenshtein_distance(str1[:-1], str2[:-1]) + cost  # Substitution\n",
        "    )\n",
        "\n",
        "# Example usage:\n",
        "result = levenshtein_distance(\"flaw\", \"lawn\")\n",
        "print(result)\n"
      ]
    },
    {
      "cell_type": "code",
      "source": [
        "def levenshtein_distance(str1, str2):\n",
        "    m, n = len(str1), len(str2)\n",
        "\n",
        "    # Create a 2D array to store the distances\n",
        "    dp = [[0] * (n + 1) for _ in range(m + 1)]\n",
        "\n",
        "    # Initialize the base cases\n",
        "    for i in range(m + 1):\n",
        "        dp[i][0] = i\n",
        "    for j in range(n + 1):\n",
        "        dp[0][j] = j\n",
        "\n",
        "    # Fill in the rest of the array\n",
        "    for i in range(1, m + 1):\n",
        "        for j in range(1, n + 1):\n",
        "            cost = 0 if str1[i - 1] == str2[j - 1] else 1\n",
        "            dp[i][j] = min(\n",
        "                dp[i - 1][j] + 1,        # Deletion\n",
        "                dp[i][j - 1] + 1,        # Insertion\n",
        "                dp[i - 1][j - 1] + cost  # Substitution\n",
        "            )\n",
        "\n",
        "    return dp[m][n]\n",
        "\n",
        "# Example usage:\n",
        "result = levenshtein_distance(\"flaw\", \"lawn\")\n",
        "print(result)\n",
        "\n"
      ],
      "metadata": {
        "colab": {
          "base_uri": "https://localhost:8080/"
        },
        "id": "OzYhYPGGQKLe",
        "outputId": "b6b2957b-b610-4774-daa1-2555114da653"
      },
      "execution_count": null,
      "outputs": [
        {
          "output_type": "stream",
          "name": "stdout",
          "text": [
            "2\n"
          ]
        }
      ]
    },
    {
      "cell_type": "code",
      "source": [
        "def levenshtein_distance(str1, str2):\n",
        "    m, n = len(str1), len(str2)\n",
        "\n",
        "    # Create a 2D array to store the distances\n",
        "    dp = [[0] * (n + 1) for _ in range(m + 1)]\n",
        "\n",
        "    # Initialize the base cases\n",
        "    for i in range(m + 1):\n",
        "        dp[i][0] = i\n",
        "    for j in range(n + 1):\n",
        "        dp[0][j] = j\n",
        "\n",
        "    # Fill in the rest of the array\n",
        "    for i in range(1, m + 1):\n",
        "        for j in range(1, n + 1):\n",
        "            cost = 0 if str1[i - 1] == str2[j - 1] else 1\n",
        "            dp[i][j] = min(\n",
        "                dp[i - 1][j] + 1,        # Deletion\n",
        "                dp[i][j - 1] + 1,        # Insertion\n",
        "                dp[i - 1][j - 1] + cost  # Substitution\n",
        "            )\n",
        "\n",
        "    return dp[m][n]\n",
        "\n",
        "# Read input from HackerRank\n",
        "str1 = input().strip()\n",
        "str2 = input().strip()\n",
        "\n",
        "# Call the function and print the result\n",
        "result = levenshtein_distance(str1, str2)\n",
        "print(result)\n"
      ],
      "metadata": {
        "id": "75QqwTz7SCm7",
        "colab": {
          "base_uri": "https://localhost:8080/",
          "height": 391
        },
        "outputId": "27819b44-8f78-4d53-d68f-e37256e8d070"
      },
      "execution_count": null,
      "outputs": [
        {
          "output_type": "error",
          "ename": "KeyboardInterrupt",
          "evalue": "Interrupted by user",
          "traceback": [
            "\u001b[0;31m---------------------------------------------------------------------------\u001b[0m",
            "\u001b[0;31mKeyboardInterrupt\u001b[0m                         Traceback (most recent call last)",
            "\u001b[0;32m<ipython-input-5-53393d815b02>\u001b[0m in \u001b[0;36m<cell line: 26>\u001b[0;34m()\u001b[0m\n\u001b[1;32m     24\u001b[0m \u001b[0;34m\u001b[0m\u001b[0m\n\u001b[1;32m     25\u001b[0m \u001b[0;31m# Read input from HackerRank\u001b[0m\u001b[0;34m\u001b[0m\u001b[0;34m\u001b[0m\u001b[0m\n\u001b[0;32m---> 26\u001b[0;31m \u001b[0mstr1\u001b[0m \u001b[0;34m=\u001b[0m \u001b[0minput\u001b[0m\u001b[0;34m(\u001b[0m\u001b[0;34m)\u001b[0m\u001b[0;34m.\u001b[0m\u001b[0mstrip\u001b[0m\u001b[0;34m(\u001b[0m\u001b[0;34m)\u001b[0m\u001b[0;34m\u001b[0m\u001b[0;34m\u001b[0m\u001b[0m\n\u001b[0m\u001b[1;32m     27\u001b[0m \u001b[0mstr2\u001b[0m \u001b[0;34m=\u001b[0m \u001b[0minput\u001b[0m\u001b[0;34m(\u001b[0m\u001b[0;34m)\u001b[0m\u001b[0;34m.\u001b[0m\u001b[0mstrip\u001b[0m\u001b[0;34m(\u001b[0m\u001b[0;34m)\u001b[0m\u001b[0;34m\u001b[0m\u001b[0;34m\u001b[0m\u001b[0m\n\u001b[1;32m     28\u001b[0m \u001b[0;34m\u001b[0m\u001b[0m\n",
            "\u001b[0;32m/usr/local/lib/python3.10/dist-packages/ipykernel/kernelbase.py\u001b[0m in \u001b[0;36mraw_input\u001b[0;34m(self, prompt)\u001b[0m\n\u001b[1;32m    849\u001b[0m                 \u001b[0;34m\"raw_input was called, but this frontend does not support input requests.\"\u001b[0m\u001b[0;34m\u001b[0m\u001b[0;34m\u001b[0m\u001b[0m\n\u001b[1;32m    850\u001b[0m             )\n\u001b[0;32m--> 851\u001b[0;31m         return self._input_request(str(prompt),\n\u001b[0m\u001b[1;32m    852\u001b[0m             \u001b[0mself\u001b[0m\u001b[0;34m.\u001b[0m\u001b[0m_parent_ident\u001b[0m\u001b[0;34m,\u001b[0m\u001b[0;34m\u001b[0m\u001b[0;34m\u001b[0m\u001b[0m\n\u001b[1;32m    853\u001b[0m             \u001b[0mself\u001b[0m\u001b[0;34m.\u001b[0m\u001b[0m_parent_header\u001b[0m\u001b[0;34m,\u001b[0m\u001b[0;34m\u001b[0m\u001b[0;34m\u001b[0m\u001b[0m\n",
            "\u001b[0;32m/usr/local/lib/python3.10/dist-packages/ipykernel/kernelbase.py\u001b[0m in \u001b[0;36m_input_request\u001b[0;34m(self, prompt, ident, parent, password)\u001b[0m\n\u001b[1;32m    893\u001b[0m             \u001b[0;32mexcept\u001b[0m \u001b[0mKeyboardInterrupt\u001b[0m\u001b[0;34m:\u001b[0m\u001b[0;34m\u001b[0m\u001b[0;34m\u001b[0m\u001b[0m\n\u001b[1;32m    894\u001b[0m                 \u001b[0;31m# re-raise KeyboardInterrupt, to truncate traceback\u001b[0m\u001b[0;34m\u001b[0m\u001b[0;34m\u001b[0m\u001b[0m\n\u001b[0;32m--> 895\u001b[0;31m                 \u001b[0;32mraise\u001b[0m \u001b[0mKeyboardInterrupt\u001b[0m\u001b[0;34m(\u001b[0m\u001b[0;34m\"Interrupted by user\"\u001b[0m\u001b[0;34m)\u001b[0m \u001b[0;32mfrom\u001b[0m \u001b[0;32mNone\u001b[0m\u001b[0;34m\u001b[0m\u001b[0;34m\u001b[0m\u001b[0m\n\u001b[0m\u001b[1;32m    896\u001b[0m             \u001b[0;32mexcept\u001b[0m \u001b[0mException\u001b[0m \u001b[0;32mas\u001b[0m \u001b[0me\u001b[0m\u001b[0;34m:\u001b[0m\u001b[0;34m\u001b[0m\u001b[0;34m\u001b[0m\u001b[0m\n\u001b[1;32m    897\u001b[0m                 \u001b[0mself\u001b[0m\u001b[0;34m.\u001b[0m\u001b[0mlog\u001b[0m\u001b[0;34m.\u001b[0m\u001b[0mwarning\u001b[0m\u001b[0;34m(\u001b[0m\u001b[0;34m\"Invalid Message:\"\u001b[0m\u001b[0;34m,\u001b[0m \u001b[0mexc_info\u001b[0m\u001b[0;34m=\u001b[0m\u001b[0;32mTrue\u001b[0m\u001b[0;34m)\u001b[0m\u001b[0;34m\u001b[0m\u001b[0;34m\u001b[0m\u001b[0m\n",
            "\u001b[0;31mKeyboardInterrupt\u001b[0m: Interrupted by user"
          ]
        }
      ]
    },
    {
      "cell_type": "code",
      "source": [
        "def calculate_checksum_digit(number):\n",
        "    digits = [int(digit) for digit in str(number)]\n",
        "    length = len(digits)\n",
        "    total_sum = 0\n",
        "\n",
        "    for i in range(length):\n",
        "        if (length - i) % 2 == 0:\n",
        "            double = digits[i] * 2\n",
        "            if double >= 10:\n",
        "                total_sum += double - 9\n",
        "            else:\n",
        "                total_sum += double\n",
        "        else:\n",
        "            total_sum += digits[i]\n",
        "\n",
        "    checksum_digit = (10 - (total_sum % 10)) % 10\n",
        "    return checksum_digit\n",
        "\n",
        "# Test the function\n",
        "number = int(input().strip())\n",
        "checksum_digit = calculate_checksum_digit(number)\n",
        "print(checksum_digit)"
      ],
      "metadata": {
        "id": "HvyRf1fnV60B",
        "outputId": "4ae2d3c3-b057-426d-babe-e1a2f3e9603c",
        "colab": {
          "base_uri": "https://localhost:8080/"
        }
      },
      "execution_count": null,
      "outputs": [
        {
          "output_type": "stream",
          "name": "stdout",
          "text": [
            "13\n",
            "5\n"
          ]
        }
      ]
    },
    {
      "cell_type": "code",
      "source": [
        "def perform_operations(list1, list2):\n",
        "    # Parse input strings and convert them to integer lists\n",
        "    list1 = list(map(int, list1.split()))\n",
        "    list2 = list(map(int, list2.split()))\n",
        "\n",
        "    # UNION: Combine lists with unique elements\n",
        "    union_list = list(set(list1) | set(list2))\n",
        "\n",
        "    # EXCEPT: Remove odd elements from list1 and even elements from list2\n",
        "    except_list = [x for x in list1 if x % 2 == 0] + [x for x in list2 if x % 2 != 0]\n",
        "\n",
        "    # INTERSECT: Find common elements between two lists\n",
        "    intersect_list = list(set(list1) & set(list2))\n",
        "\n",
        "    return union_list, except_list, intersect_list\n",
        "\n",
        "# Input\n",
        "list1_input = input(\"Enter elements of the first array: \")\n",
        "list2_input = input(\"Enter elements of the second array: \")\n",
        "\n",
        "# Perform operations\n",
        "union_result, except_result, intersect_result = perform_operations(list1_input, list2_input)\n",
        "\n",
        "# Output\n",
        "print(\"UNION:\", union_result)\n",
        "print(\"EXCEPT:\", except_result)\n",
        "print(\"INTERSECT:\", intersect_result)\n"
      ],
      "metadata": {
        "id": "R8sX9NKRV7h3",
        "colab": {
          "base_uri": "https://localhost:8080/"
        },
        "outputId": "1f46b606-4f75-481f-c9b0-22b9701b799f"
      },
      "execution_count": null,
      "outputs": [
        {
          "output_type": "stream",
          "name": "stdout",
          "text": [
            "Enter elements of the first array: 125389\n",
            "Enter elements of the second array: 1758\n",
            "UNION: [125389, 1758]\n",
            "EXCEPT: []\n",
            "INTERSECT: []\n"
          ]
        }
      ]
    },
    {
      "cell_type": "code",
      "source": [
        "def perform_operations(list1, list2):\n",
        "    # Convert input strings to integer lists\n",
        "    list1 = list(map(int, list1.split()))\n",
        "    list2 = list(map(int, list2.split()))\n",
        "\n",
        "    # UNION: Combine lists with unique elements\n",
        "    union_list = list(set(list1) | set(list2))\n",
        "\n",
        "    # EXCEPT: Remove odd elements from list1 and even elements from list2\n",
        "    except_list = [x for x in list1 if x % 2 == 0] + [x for x in list2 if x % 2 != 0]\n",
        "\n",
        "    # INTERSECT: Find common elements between two lists\n",
        "    intersect_list = list(set(list1) & set(list2))\n",
        "\n",
        "    return union_list, except_list, intersect_list\n",
        "\n",
        "# Input\n",
        "list1_input = input(\"Enter elements of the first array: \")\n",
        "list2_input = input(\"Enter elements of the second array: \")\n",
        "\n",
        "# Perform operations\n",
        "union_result, except_result, intersect_result = perform_operations(list1_input, list2_input)\n",
        "\n",
        "# Output\n",
        "print(\"UNION:\", union_result)\n",
        "print(\"EXCEPT:\", except_result)\n",
        "print(\"INTERSECT:\", intersect_result)\n"
      ],
      "metadata": {
        "colab": {
          "base_uri": "https://localhost:8080/"
        },
        "id": "vV8rFacHgeG7",
        "outputId": "d34798db-e722-481d-feeb-427549469d29"
      },
      "execution_count": null,
      "outputs": [
        {
          "output_type": "stream",
          "name": "stdout",
          "text": [
            "Enter elements of the first array: 125389\n",
            "Enter elements of the second array: 1758\n",
            "UNION: [125389, 1758]\n",
            "EXCEPT: []\n",
            "INTERSECT: []\n"
          ]
        }
      ]
    },
    {
      "cell_type": "code",
      "source": [
        "# prompt: Given two lists of numbers, perform the operations as defined below:  • UNION: Newly generated list should contain all the common elements and the remaining elements which are not common. EXCEPT: Remove odd value elements from the first list and even value elements from the second list and returns the new list. INTERSECT: Returns the new list with elements that are present in both the lists.\n",
        "\n",
        "def perform_operations(list1, list2):\n",
        "    # Convert input strings to integer lists\n",
        "    list1 = list(map(int, list1.split()))\n",
        "    list2 = list(map(int, list2.split()))\n",
        "\n",
        "    # UNION: Combine lists with unique elements\n",
        "    union_list = list(set(list1) | set(list2))\n",
        "\n",
        "    # EXCEPT: Remove odd elements from list1 and even elements from list2\n",
        "    except_list = [x for x in list1 if x % 2 == 0] + [x for x in list2 if x % 2 != 0]\n",
        "\n",
        "    # INTERSECT: Find common elements between two lists\n",
        "    intersect_list = list(set(list1) & set(list2))\n",
        "\n",
        "    return union_list, except_list, intersect_list\n",
        "\n",
        "# Input\n",
        "list1_input = input(\"Enter elements of the first array: \")\n",
        "list2_input = input(\"Enter elements of the second array: \")\n",
        "\n",
        "# Perform operations\n",
        "union_result, except_result, intersect_result = perform_operations(list1_input, list2_input)\n",
        "\n",
        "# Output\n",
        "print(\"UNION:\", union_result)\n",
        "print(\"EXCEPT:\", except_result)\n",
        "print(\"INTERSECT:\", intersect_result)\n"
      ],
      "metadata": {
        "colab": {
          "base_uri": "https://localhost:8080/"
        },
        "id": "4tLiVaDhge3L",
        "outputId": "37f3c3c7-c2a7-4714-fdc3-0f2998068040"
      },
      "execution_count": null,
      "outputs": [
        {
          "output_type": "stream",
          "name": "stdout",
          "text": [
            "Enter elements of the first array: 125389\n",
            "Enter elements of the second array: 1758\n",
            "UNION: [125389, 1758]\n",
            "EXCEPT: []\n",
            "INTERSECT: []\n"
          ]
        }
      ]
    },
    {
      "cell_type": "code",
      "source": [
        "def perform_operations(list1, list2):\n",
        "    # Convert input strings to integer lists\n",
        "    list1 = list(map(int, list1.split()))\n",
        "    list2 = list(map(int, list2.split()))\n",
        "\n",
        "    # UNION: Combine lists with unique elements\n",
        "    union_list = list(set(list1) | set(list2))\n",
        "\n",
        "    # EXCEPT: Remove odd elements from list1 and even elements from list2\n",
        "    except_list = [x for x in list1 if x % 2 == 0] + [x for x in list2 if x % 2 != 0]\n",
        "\n",
        "    # INTERSECT: Find common elements between two lists\n",
        "    intersect_list = list(set(list1) & set(list2))\n",
        "\n",
        "    return union_list, intersect_list, except_list\n",
        "\n",
        "# Input\n",
        "list1_input = input(\"Enter elements of the first array: \")\n",
        "list2_input = input(\"Enter elements of the second array: \")\n",
        "\n",
        "# Perform operations\n",
        "union_result, intersect_result, except_result = perform_operations(list1_input, list2_input)\n",
        "\n",
        "# Output\n",
        "print(\"Union of two arrays:\", ' '.join(map(str, union_result)))\n",
        "print(\"Intersection of two arrays:\", ' '.join(map(str, intersect_result)))\n",
        "print(\"Except of two arrays:\", ' '.join(map(str, except_result)))\n"
      ],
      "metadata": {
        "colab": {
          "base_uri": "https://localhost:8080/"
        },
        "id": "-vdfpy1ag_JA",
        "outputId": "c79d2e94-a95c-4e31-8cf9-34cf75d38798"
      },
      "execution_count": null,
      "outputs": [
        {
          "output_type": "stream",
          "name": "stdout",
          "text": [
            "Enter elements of the first array: 125389\n",
            "Enter elements of the second array: 1758\n",
            "Union of two arrays: 125389 1758\n",
            "Intersection of two arrays: \n",
            "Except of two arrays: \n"
          ]
        }
      ]
    },
    {
      "cell_type": "code",
      "source": [],
      "metadata": {
        "id": "L3gC8kFbhtcQ"
      },
      "execution_count": null,
      "outputs": []
    },
    {
      "cell_type": "code",
      "source": [
        "def perform_union(list1, list2):\n",
        "    # Convert input strings to integer lists\n",
        "    list1 = list(map(int, list1.split()))\n",
        "    list2 = list(map(int, list2.split()))\n",
        "\n",
        "    # UNION: Combine lists with unique elements\n",
        "    union_list = list(set(list1) | set(list2))\n",
        "\n",
        "    return union_list\n",
        "\n",
        "# Input\n",
        "list1_input = input(\"Enter elements of the first array: \")\n",
        "list2_input = input(\"Enter elements of the second array: \")\n",
        "\n",
        "# Perform UNION operation\n",
        "union_result = perform_union(list1_input, list2_input)\n",
        "\n",
        "# Output\n",
        "print(\"Union of two arrays:\", ' '.join(map(str, union_result)))\n"
      ],
      "metadata": {
        "colab": {
          "base_uri": "https://localhost:8080/"
        },
        "id": "4FA7mUC5htjO",
        "outputId": "9b620472-3186-4175-bea3-6947e0e50fca"
      },
      "execution_count": null,
      "outputs": [
        {
          "output_type": "stream",
          "name": "stdout",
          "text": [
            "Enter elements of the first array: 125389\n",
            "Enter elements of the second array: 1758\n",
            "Union of two arrays: 125389 1758\n"
          ]
        }
      ]
    },
    {
      "cell_type": "code",
      "source": [
        "# prompt: union of two array\n",
        "\n",
        "def perform_union(list1, list2):\n",
        "  # Convert input strings to integer lists\n",
        "  list1 = list(map(int, list1.split()))\n",
        "  list2 = list(map(int, list2.split()))\n",
        "\n",
        "  # UNION: Combine lists with unique elements\n",
        "  union_list = list(set(list1) | set(list2))\n",
        "\n",
        "  return union_list\n",
        "\n",
        "# Input\n",
        "list1_input = input(\"Enter elements of the first array: \")\n",
        "list2_input = input(\"Enter elements of the second array: \")\n",
        "\n",
        "# Perform UNION operation\n",
        "union_result = perform_union(list1_input, list2_input)\n",
        "\n",
        "# Output\n",
        "print(\"Union of two arrays:\", ' '.join(map(str, union_result)))\n"
      ],
      "metadata": {
        "colab": {
          "base_uri": "https://localhost:8080/"
        },
        "id": "l5RL1eWWh0P-",
        "outputId": "7d28430d-ede1-4302-865e-4f33a47c22cd"
      },
      "execution_count": null,
      "outputs": [
        {
          "output_type": "stream",
          "name": "stdout",
          "text": [
            "Enter elements of the first array: 125389\n",
            "Enter elements of the second array: 1758\n",
            "Union of two arrays: 125389 1758\n"
          ]
        }
      ]
    },
    {
      "cell_type": "code",
      "source": [
        "def Unionarray(arr1, arr2, n, m):\n",
        "    # Create a set to store unique elements from both arrays\n",
        "    set1 = set(arr1)\n",
        "    set2 = set(arr2)\n",
        "    # Merge both sets and convert back to list\n",
        "    result = list(set1.union(set2))\n",
        "    return result\n",
        "def find_intersection(arr1, arr2):\n",
        "    set1 = set(arr1)\n",
        "\n",
        "    # Removing duplicates from the first array\n",
        "    result = []\n",
        "\n",
        "    # Avoiding duplicates and adding intersections\n",
        "    for num in arr2:\n",
        "        if num in set1:\n",
        "            result.append(num)\n",
        "            set1.remove(num)\n",
        "\n",
        "    return result"
      ],
      "metadata": {
        "id": "hNbs5fSLktXD"
      },
      "execution_count": null,
      "outputs": []
    },
    {
      "cell_type": "code",
      "source": [
        "def can_attend_all_meetings(intervals):\n",
        "    # Sort the intervals based on the start time\n",
        "    intervals.sort(key=lambda x: x[0])\n",
        "\n",
        "    # Check for overlap in adjacent intervals\n",
        "    for i in range(1, len(intervals)):\n",
        "        if intervals[i][0] < intervals[i-1][1]:\n",
        "            return False  # There is an overlap\n",
        "\n",
        "    return True  # No overlap found, person can attend all meetings\n",
        "\n",
        "# Input\n",
        "num_meetings = int(input(\"Enter the number of meetings: \"))\n",
        "intervals = []\n",
        "\n",
        "for i in range(num_meetings):\n",
        "    start_time, end_time = map(int, input(f\"Enter the start and end time for meeting {i+1} (separated by space): \").split())\n",
        "    intervals.append([start_time, end_time])\n",
        "\n",
        "# Check if the person can attend all meetings\n",
        "result = can_attend_all_meetings(intervals)\n",
        "\n",
        "# Output\n",
        "if result:\n",
        "    print(\"The person can attend all meetings.\")\n",
        "else:\n",
        "    print(\"The person cannot attend all meetings due to overlap.\")\n"
      ],
      "metadata": {
        "colab": {
          "base_uri": "https://localhost:8080/"
        },
        "id": "5FCCepP9lfbE",
        "outputId": "29552919-4aa7-4f3e-e8ee-6df3560c8225"
      },
      "execution_count": null,
      "outputs": [
        {
          "output_type": "stream",
          "name": "stdout",
          "text": [
            "Enter the number of meetings: 2\n",
            "Enter the start and end time for meeting 1 (separated by space): 7 10\n",
            "Enter the start and end time for meeting 2 (separated by space): 2 4\n",
            "The person can attend all meetings.\n"
          ]
        }
      ]
    },
    {
      "cell_type": "code",
      "source": [
        "def check_meeting_overlap(meetings):\n",
        "    sorted_meetings = sorted(meetings, key=lambda x: x[0])\n",
        "\n",
        "    for i in range(1, len(sorted_meetings)):\n",
        "        if sorted_meetings[i][0] < sorted_meetings[i - 1][1]:\n",
        "            return False\n",
        "\n",
        "    return True\n",
        "\n",
        "# Get input from the user\n",
        "num_meetings = int(input(\"Enter the number of meetings: \"))\n",
        "meetings_list = []\n",
        "\n",
        "for i in range(num_meetings):\n",
        "    start_time = int(input(f\"Enter start time for meeting {i + 1}: \"))\n",
        "    end_time = int(input(f\"Enter end time for meeting {i + 1}: \"))\n",
        "    meetings_list.append((start_time, end_time))\n",
        "\n",
        "# Check for overlap\n",
        "result = check_meeting_overlap(meetings_list)\n",
        "\n",
        "if result:\n",
        "    print(\"The person can attend all meetings.\")\n",
        "else:\n",
        "    print(\"There is an overlap, and the person cannot attend all meetings.\")\n"
      ],
      "metadata": {
        "colab": {
          "base_uri": "https://localhost:8080/",
          "height": 280
        },
        "id": "p0UkTHaTnEx5",
        "outputId": "a3f35037-018c-417b-fac7-a8bc483dae6a"
      },
      "execution_count": null,
      "outputs": [
        {
          "name": "stdout",
          "output_type": "stream",
          "text": [
            "Enter the number of meetings: 2\n",
            "Enter start time for meeting 1: 7 10\n"
          ]
        },
        {
          "output_type": "error",
          "ename": "ValueError",
          "evalue": "invalid literal for int() with base 10: '7 10'",
          "traceback": [
            "\u001b[0;31m---------------------------------------------------------------------------\u001b[0m",
            "\u001b[0;31mValueError\u001b[0m                                Traceback (most recent call last)",
            "\u001b[0;32m<ipython-input-16-b7e7a2472c4f>\u001b[0m in \u001b[0;36m<cell line: 14>\u001b[0;34m()\u001b[0m\n\u001b[1;32m     13\u001b[0m \u001b[0;34m\u001b[0m\u001b[0m\n\u001b[1;32m     14\u001b[0m \u001b[0;32mfor\u001b[0m \u001b[0mi\u001b[0m \u001b[0;32min\u001b[0m \u001b[0mrange\u001b[0m\u001b[0;34m(\u001b[0m\u001b[0mnum_meetings\u001b[0m\u001b[0;34m)\u001b[0m\u001b[0;34m:\u001b[0m\u001b[0;34m\u001b[0m\u001b[0;34m\u001b[0m\u001b[0m\n\u001b[0;32m---> 15\u001b[0;31m     \u001b[0mstart_time\u001b[0m \u001b[0;34m=\u001b[0m \u001b[0mint\u001b[0m\u001b[0;34m(\u001b[0m\u001b[0minput\u001b[0m\u001b[0;34m(\u001b[0m\u001b[0;34mf\"Enter start time for meeting {i + 1}: \"\u001b[0m\u001b[0;34m)\u001b[0m\u001b[0;34m)\u001b[0m\u001b[0;34m\u001b[0m\u001b[0;34m\u001b[0m\u001b[0m\n\u001b[0m\u001b[1;32m     16\u001b[0m     \u001b[0mend_time\u001b[0m \u001b[0;34m=\u001b[0m \u001b[0mint\u001b[0m\u001b[0;34m(\u001b[0m\u001b[0minput\u001b[0m\u001b[0;34m(\u001b[0m\u001b[0;34mf\"Enter end time for meeting {i + 1}: \"\u001b[0m\u001b[0;34m)\u001b[0m\u001b[0;34m)\u001b[0m\u001b[0;34m\u001b[0m\u001b[0;34m\u001b[0m\u001b[0m\n\u001b[1;32m     17\u001b[0m     \u001b[0mmeetings_list\u001b[0m\u001b[0;34m.\u001b[0m\u001b[0mappend\u001b[0m\u001b[0;34m(\u001b[0m\u001b[0;34m(\u001b[0m\u001b[0mstart_time\u001b[0m\u001b[0;34m,\u001b[0m \u001b[0mend_time\u001b[0m\u001b[0;34m)\u001b[0m\u001b[0;34m)\u001b[0m\u001b[0;34m\u001b[0m\u001b[0;34m\u001b[0m\u001b[0m\n",
            "\u001b[0;31mValueError\u001b[0m: invalid literal for int() with base 10: '7 10'"
          ]
        }
      ]
    },
    {
      "cell_type": "code",
      "source": [],
      "metadata": {
        "id": "I5ORk4rRnFvW"
      },
      "execution_count": null,
      "outputs": []
    },
    {
      "cell_type": "code",
      "source": [
        "def can_attend_all_meetings(intervals):\n",
        "    sorted_intervals = sorted(intervals, key=lambda x: x[0])\n",
        "\n",
        "    for i in range(1, len(sorted_intervals)):\n",
        "        if sorted_intervals[i][0] < sorted_intervals[i - 1][1]:\n",
        "            # There is an overlap\n",
        "            return False\n",
        "\n",
        "    # No overlap found\n",
        "    return True\n",
        "\n",
        "# Get input from the user\n",
        "num_meetings = int(input(\"Enter the number of meetings: \"))\n",
        "intervals_list = []\n",
        "\n",
        "for i in range(num_meetings):\n",
        "    start_time = int(input(f\"Enter start time for meeting {i + 1}: \"))\n",
        "    end_time = int(input(f\"Enter end time for meeting {i + 1}: \"))\n",
        "    intervals_list.append([start_time, end_time])\n",
        "\n",
        "# Check if the person can attend all meetings\n",
        "result = can_attend_all_meetings(intervals_list)\n",
        "\n",
        "if result:\n",
        "    print(\"The person can attend all meetings.\")\n",
        "else:\n",
        "    print(\"There is an overlap, and the person cannot attend all meetings.\")\n",
        "\n"
      ],
      "metadata": {
        "colab": {
          "base_uri": "https://localhost:8080/",
          "height": 280
        },
        "id": "HhWuHmfanUsO",
        "outputId": "fb9597a0-e12b-4560-d83a-6b2704b74356"
      },
      "execution_count": null,
      "outputs": [
        {
          "name": "stdout",
          "output_type": "stream",
          "text": [
            "Enter the number of meetings: 2\n",
            "Enter start time for meeting 1: 7 10\n"
          ]
        },
        {
          "output_type": "error",
          "ename": "ValueError",
          "evalue": "invalid literal for int() with base 10: '7 10'",
          "traceback": [
            "\u001b[0;31m---------------------------------------------------------------------------\u001b[0m",
            "\u001b[0;31mValueError\u001b[0m                                Traceback (most recent call last)",
            "\u001b[0;32m<ipython-input-17-cfe5c968a17a>\u001b[0m in \u001b[0;36m<cell line: 16>\u001b[0;34m()\u001b[0m\n\u001b[1;32m     15\u001b[0m \u001b[0;34m\u001b[0m\u001b[0m\n\u001b[1;32m     16\u001b[0m \u001b[0;32mfor\u001b[0m \u001b[0mi\u001b[0m \u001b[0;32min\u001b[0m \u001b[0mrange\u001b[0m\u001b[0;34m(\u001b[0m\u001b[0mnum_meetings\u001b[0m\u001b[0;34m)\u001b[0m\u001b[0;34m:\u001b[0m\u001b[0;34m\u001b[0m\u001b[0;34m\u001b[0m\u001b[0m\n\u001b[0;32m---> 17\u001b[0;31m     \u001b[0mstart_time\u001b[0m \u001b[0;34m=\u001b[0m \u001b[0mint\u001b[0m\u001b[0;34m(\u001b[0m\u001b[0minput\u001b[0m\u001b[0;34m(\u001b[0m\u001b[0;34mf\"Enter start time for meeting {i + 1}: \"\u001b[0m\u001b[0;34m)\u001b[0m\u001b[0;34m)\u001b[0m\u001b[0;34m\u001b[0m\u001b[0;34m\u001b[0m\u001b[0m\n\u001b[0m\u001b[1;32m     18\u001b[0m     \u001b[0mend_time\u001b[0m \u001b[0;34m=\u001b[0m \u001b[0mint\u001b[0m\u001b[0;34m(\u001b[0m\u001b[0minput\u001b[0m\u001b[0;34m(\u001b[0m\u001b[0;34mf\"Enter end time for meeting {i + 1}: \"\u001b[0m\u001b[0;34m)\u001b[0m\u001b[0;34m)\u001b[0m\u001b[0;34m\u001b[0m\u001b[0;34m\u001b[0m\u001b[0m\n\u001b[1;32m     19\u001b[0m     \u001b[0mintervals_list\u001b[0m\u001b[0;34m.\u001b[0m\u001b[0mappend\u001b[0m\u001b[0;34m(\u001b[0m\u001b[0;34m[\u001b[0m\u001b[0mstart_time\u001b[0m\u001b[0;34m,\u001b[0m \u001b[0mend_time\u001b[0m\u001b[0;34m]\u001b[0m\u001b[0;34m)\u001b[0m\u001b[0;34m\u001b[0m\u001b[0;34m\u001b[0m\u001b[0m\n",
            "\u001b[0;31mValueError\u001b[0m: invalid literal for int() with base 10: '7 10'"
          ]
        }
      ]
    },
    {
      "cell_type": "code",
      "source": [
        "# prompt: **3**\n",
        "\n",
        "print(3)\n"
      ],
      "metadata": {
        "id": "RltJ7kYknV20"
      },
      "execution_count": null,
      "outputs": []
    },
    {
      "cell_type": "code",
      "source": [
        "**3**\n",
        "*323*"
      ],
      "metadata": {
        "id": "jBCRBXFeqNoF"
      },
      "execution_count": null,
      "outputs": []
    },
    {
      "cell_type": "code",
      "source": [
        "def find_descendants(person_to_find, relationships):\n",
        "    descendants = []\n",
        "\n",
        "    for relationship in relationships:\n",
        "        parts = relationship.split(\": \")\n",
        "        parent = parts[1]\n",
        "        child = parts[0]\n",
        "\n",
        "        if parent == person_to_find:\n",
        "            descendants.append(child)\n",
        "\n",
        "    if descendants:\n",
        "        result = \", \".join(descendants)\n",
        "        print(result)\n",
        "    else:\n",
        "        print(\"no-one\")\n",
        "\n",
        "# Get input from the user\n",
        "person_to_find = input(\"Enter the name whose descendants have to be found: \")\n",
        "relationships_input = input(\"Enter the array of names and parent names (semicolon separated): \")\n",
        "\n",
        "# Split the relationships input into a list\n",
        "relationships = relationships_input.split(\", \")\n",
        "\n",
        "# Call the function with user input\n",
        "find_descendants(person_to_find, relationships)\n"
      ],
      "metadata": {
        "colab": {
          "base_uri": "https://localhost:8080/"
        },
        "id": "K23EnyyTqo3F",
        "outputId": "25e1c88d-3cdd-48fb-bee5-7f164c4c3fb8"
      },
      "execution_count": null,
      "outputs": [
        {
          "output_type": "stream",
          "name": "stdout",
          "text": [
            "Enter the name whose descendants have to be found: Steffon\n",
            "Enter the array of names and parent names (semicolon separated):  [Robert: Steffon], [Stannis: Steffon], [Jeoffrey: Robert]\n",
            "no-one\n"
          ]
        }
      ]
    },
    {
      "cell_type": "code",
      "source": [
        "def find_last_known_descendants(person, relationships):\n",
        "    family_tree = {}\n",
        "\n",
        "    # Build the family tree\n",
        "    for relationship in relationships:\n",
        "        parts = relationship.split(\": \")\n",
        "        parent = parts[1]\n",
        "        child = parts[0]\n",
        "\n",
        "        if parent not in family_tree:\n",
        "            family_tree[parent] = []\n",
        "\n",
        "        family_tree[parent].append(child)\n",
        "\n",
        "    # Find last known descendants or siblings\n",
        "    descendants = family_tree.get(person, [])\n",
        "    if not descendants:\n",
        "        # If no descendants, check for siblings\n",
        "        parent = [k for k, v in family_tree.items() if person in v]\n",
        "        if parent:\n",
        "            siblings = family_tree[parent[0]]\n",
        "            descendants = siblings\n",
        "\n",
        "    if descendants:\n",
        "        result = \", \".join(descendants)\n",
        "        print(result)\n",
        "    else:\n",
        "        print(\"no-one\")\n",
        "\n",
        "# Get input from the user\n",
        "user_input = input(\"Enter input in the specified format: \")\n",
        "\n",
        "# Split the input into name and relationships\n",
        "input_parts = user_input.split(\", \")\n",
        "person_to_find = input_parts[0]\n",
        "relationships_input = input_parts[1:]\n",
        "\n",
        "# Call the function with user input\n",
        "find_last_known_descendants(person_to_find, relationships_input)\n",
        "\n"
      ],
      "metadata": {
        "colab": {
          "base_uri": "https://localhost:8080/"
        },
        "id": "5GEO6ImIrUXi",
        "outputId": "8e6afe21-2fe5-4f7d-dbd0-7630f1290c2f"
      },
      "execution_count": null,
      "outputs": [
        {
          "output_type": "stream",
          "name": "stdout",
          "text": [
            "Enter input in the specified format: Steffon, [Robert: Steffon], [Stannis: Steffon], [Jeoffrey: Robert]\n",
            "no-one\n"
          ]
        }
      ]
    },
    {
      "cell_type": "code",
      "source": [
        "def find_last_known_descendants(person, relationships):\n",
        "    family_tree = {}\n",
        "\n",
        "    # Build the family tree\n",
        "    for relationship in relationships:\n",
        "        parts = relationship.split(\": \")\n",
        "        parent = parts[1]\n",
        "        child = parts[0]\n",
        "\n",
        "        if parent not in family_tree:\n",
        "            family_tree[parent] = []\n",
        "\n",
        "        family_tree[parent].append(child)\n",
        "\n",
        "    # Find last known descendants or siblings\n",
        "    descendants = family_tree.get(person, [])\n",
        "    if not descendants:\n",
        "        # If no descendants, check for siblings\n",
        "        parent = [k for k, v in family_tree.items() if person in v]\n",
        "        if parent:\n",
        "            siblings = family_tree[parent[0]]\n",
        "            descendants = siblings\n",
        "\n",
        "    if descendants:\n",
        "        result = \", \".join(descendants)\n",
        "        print(result)\n",
        "    else:\n",
        "        print(\"no-one\")\n",
        "\n",
        "# Get input from the user\n",
        "user_input = input(\"Enter input in the specified format: \")\n",
        "\n",
        "# Split the input into name and relationships\n",
        "input_parts = user_input.split(\", \")\n",
        "person_to_find = input_parts[0]\n",
        "relationships_input = input_parts[1:]\n",
        "\n",
        "# Call the function with user input\n",
        "find_last_known_descendants(person_to_find, relationships_input)\n"
      ],
      "metadata": {
        "colab": {
          "base_uri": "https://localhost:8080/"
        },
        "id": "EZDizq7Wrkml",
        "outputId": "ce18b962-63a0-4ee3-e3ee-3060316905f9"
      },
      "execution_count": null,
      "outputs": [
        {
          "output_type": "stream",
          "name": "stdout",
          "text": [
            "Enter input in the specified format: Steffon, [Robert: Steffon], [Stannis: Steffon], [Jeoffrey: Robert]\n",
            "no-one\n"
          ]
        }
      ]
    },
    {
      "cell_type": "code",
      "source": [
        "def isMatch(s, p):\n",
        "    # Initialize a 2D dp array\n",
        "    dp = [[False] * (len(p) + 1) for _ in range(len(s) + 1)]\n",
        "    dp[0][0] = True  # Empty string and empty pattern match\n",
        "\n",
        "    # Fill the first row (empty string) based on '*'\n",
        "    for j in range(1, len(p) + 1):\n",
        "        if p[j - 1] == '*':\n",
        "            dp[0][j] = dp[0][j - 2]\n",
        "\n",
        "    # Build the dp array\n",
        "    for i in range(1, len(s) + 1):\n",
        "        for j in range(1, len(p) + 1):\n",
        "            if p[j - 1] == s[i - 1] or p[j - 1] == '.':\n",
        "                dp[i][j] = dp[i - 1][j - 1]\n",
        "            elif p[j - 1] == '*':\n",
        "                dp[i][j] = dp[i][j - 2] or (dp[i - 1][j] and (s[i - 1] == p[j - 2] or p[j - 2] == '.'))\n",
        "\n",
        "    return dp[len(s)][len(p)]\n",
        "\n",
        "# Get input from the user\n",
        "s = input(\"Enter the word to match: \")\n",
        "p = input(\"Enter the pattern to check: \")\n",
        "\n",
        "# Call the function and print the result\n",
        "result = isMatch(s, p)\n",
        "print(result)\n"
      ],
      "metadata": {
        "colab": {
          "base_uri": "https://localhost:8080/"
        },
        "id": "I6HpfREzsZFW",
        "outputId": "f44dcc03-0883-44c6-f2fd-4bbc53def161"
      },
      "execution_count": null,
      "outputs": [
        {
          "output_type": "stream",
          "name": "stdout",
          "text": [
            "Enter the word to match: ab\n",
            "Enter the pattern to check: .*\n",
            "True\n"
          ]
        }
      ]
    },
    {
      "cell_type": "code",
      "source": [
        "def isMatch(s, p):\n",
        "    m, n = len(s), len(p)\n",
        "\n",
        "    # Initialize two rows for dynamic programming\n",
        "    dp = [[False] * (n + 1) for _ in range(2)]\n",
        "    dp[0][0] = True  # Empty string and empty pattern match\n",
        "\n",
        "    for j in range(1, n + 1):\n",
        "        if p[j - 1] == '*':\n",
        "            dp[0][j] = dp[0][j - 2]\n",
        "\n",
        "    for i in range(1, m + 1):\n",
        "        dp[i % 2][0] = False  # Reset the first column\n",
        "\n",
        "        for j in range(1, n + 1):\n",
        "            if p[j - 1] == s[i - 1] or p[j - 1] == '.':\n",
        "                dp[i % 2][j] = dp[(i - 1) % 2][j - 1]\n",
        "            elif p[j - 1] == '*':\n",
        "                dp[i % 2][j] = dp[i % 2][j - 2] or (dp[(i - 1) % 2][j] and (s[i - 1] == p[j - 2] or p[j - 2] == '.'))\n",
        "\n",
        "    return dp[m % 2][n]\n",
        "\n",
        "# Get input from the user\n",
        "s = input(\"Enter the word to match: \")\n",
        "p = input(\"Enter the pattern to check: \")\n",
        "\n",
        "# Call the function and print the result\n",
        "result = isMatch(s, p)\n",
        "print(result)\n"
      ],
      "metadata": {
        "colab": {
          "base_uri": "https://localhost:8080/"
        },
        "id": "TGdF0CkatbxN",
        "outputId": "684d144b-7cb3-4426-9ccb-3cc2b9d366d6"
      },
      "execution_count": null,
      "outputs": [
        {
          "output_type": "stream",
          "name": "stdout",
          "text": [
            "Enter the word to match: ab\n",
            "Enter the pattern to check: .*\n",
            "True\n"
          ]
        }
      ]
    },
    {
      "cell_type": "code",
      "source": [
        "class Node:\n",
        "    def __init__(self, data):\n",
        "        self.data = data\n",
        "        self.next = None\n",
        "\n",
        "def get_union(head1, head2):\n",
        "    unique_elements = set()\n",
        "    result_head = None\n",
        "    result_current = None\n",
        "\n",
        "    current = head1\n",
        "    while current:\n",
        "        unique_elements.add(current.data)\n",
        "        current = current.next\n",
        "\n",
        "    current = head2\n",
        "    while current:\n",
        "        unique_elements.add(current.data)\n",
        "        current = current.next\n",
        "\n",
        "    for data in unique_elements:\n",
        "        if result_head is None:\n",
        "            result_head = Node(data)\n",
        "            result_current = result_head\n",
        "        else:\n",
        "            result_current.next = Node(data)\n",
        "            result_current = result_current.next\n",
        "\n",
        "    return result_head\n",
        "\n",
        "def get_intersection(head1, head2):\n",
        "    set1 = set()\n",
        "    result_head = None\n",
        "    result_current = None\n",
        "\n",
        "    current = head1\n",
        "    while current:\n",
        "        set1.add(current.data)\n",
        "        current = current.next\n",
        "\n",
        "    current = head2\n",
        "    while current:\n",
        "        if current.data in set1:\n",
        "            if result_head is None:\n",
        "                result_head = Node(current.data)\n",
        "                result_current = result_head\n",
        "            else:\n",
        "                result_current.next = Node(current.data)\n",
        "                result_current = result_current.next\n",
        "\n",
        "        current = current.next\n",
        "\n",
        "    return result_head\n",
        "\n",
        "# Example usage:\n",
        "# Assuming you have two linked lists head1 and head2\n",
        "# result_union = get_union(head1, head2)\n",
        "# result_intersection = get_intersection(head1, head2)\n"
      ],
      "metadata": {
        "id": "35IYqYfP1QQF"
      },
      "execution_count": null,
      "outputs": []
    },
    {
      "cell_type": "code",
      "source": [
        "class Node:\n",
        "    def __init__(self, data):\n",
        "        self.data = data\n",
        "        self.next = None\n",
        "\n",
        "def create_linked_list():\n",
        "    elements = input(\"Enter elements of the linked list (space-separated): \").split()\n",
        "    head = None\n",
        "    current = None\n",
        "\n",
        "    for element in elements:\n",
        "        if head is None:\n",
        "            head = Node(int(element))\n",
        "            current = head\n",
        "        else:\n",
        "            current.next = Node(int(element))\n",
        "            current = current.next\n",
        "\n",
        "    return head\n",
        "\n",
        "def print_linked_list(head):\n",
        "    current = head\n",
        "    while current:\n",
        "        print(current.data, end=\" \")\n",
        "        current = current.next\n",
        "    print()\n",
        "\n",
        "def get_union(head1, head2):\n",
        "    unique_elements = set()\n",
        "    result_head = None\n",
        "    result_current = None\n",
        "\n",
        "    current = head1\n",
        "    while current:\n",
        "        unique_elements.add(current.data)\n",
        "        current = current.next\n",
        "\n",
        "    current = head2\n",
        "    while current:\n",
        "        unique_elements.add(current.data)\n",
        "        current = current.next\n",
        "\n",
        "    for data in unique_elements:\n",
        "        if result_head is None:\n",
        "            result_head = Node(data)\n",
        "            result_current = result_head\n",
        "        else:\n",
        "            result_current.next = Node(data)\n",
        "            result_current = result_current.next\n",
        "\n",
        "    return result_head\n",
        "\n",
        "def get_intersection(head1, head2):\n",
        "    set1 = set()\n",
        "    result_head = None\n",
        "    result_current = None\n",
        "\n",
        "    current = head1\n",
        "    while current:\n",
        "        set1.add(current.data)\n",
        "        current = current.next\n",
        "\n",
        "    current = head2\n",
        "    while current:\n",
        "        if current.data in set1:\n",
        "            if result_head is None:\n",
        "                result_head = Node(current.data)\n",
        "                result_current = result_head\n",
        "            else:\n",
        "                result_current.next = Node(current.data)\n",
        "                result_current = result_current.next\n",
        "\n",
        "        current = current.next\n",
        "\n",
        "    return result_head\n",
        "\n",
        "# Example usage:\n",
        "head1 = create_linked_list()\n",
        "head2 = create_linked_list()\n",
        "\n",
        "print(\"Linked List 1:\")\n",
        "print_linked_list(head1)\n",
        "\n",
        "print(\"Linked List 2:\")\n",
        "print_linked_list(head2)\n",
        "\n",
        "result_union = get_union(head1, head2)\n",
        "result_intersection = get_intersection(head1, head2)\n",
        "\n",
        "print(\"Union:\")\n",
        "print_linked_list(result_union)\n",
        "\n",
        "print(\"Intersection:\")\n",
        "print_linked_list(result_intersection)\n"
      ],
      "metadata": {
        "colab": {
          "base_uri": "https://localhost:8080/"
        },
        "id": "_8Rnl_Is1bF5",
        "outputId": "3242f499-856d-44ad-89d4-c593d280de01"
      },
      "execution_count": null,
      "outputs": [
        {
          "output_type": "stream",
          "name": "stdout",
          "text": [
            "Enter elements of the linked list (space-separated): 125389\n",
            "Enter elements of the linked list (space-separated): 1758\n",
            "Linked List 1:\n",
            "125389 \n",
            "Linked List 2:\n",
            "1758 \n",
            "Union:\n",
            "125389 1758 \n",
            "Intersection:\n",
            "\n"
          ]
        }
      ]
    },
    {
      "cell_type": "code",
      "source": [],
      "metadata": {
        "id": "qZwvYHmF1mYM"
      },
      "execution_count": null,
      "outputs": []
    }
  ]
}