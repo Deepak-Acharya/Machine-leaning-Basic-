{
 "cells": [
  {
   "cell_type": "code",
   "execution_count": 1,
   "id": "564aa52a",
   "metadata": {
    "_cell_guid": "b1076dfc-b9ad-4769-8c92-a6c4dae69d19",
    "_uuid": "8f2839f25d086af736a60e9eeb907d3b93b6e0e5",
    "execution": {
     "iopub.execute_input": "2024-02-26T17:38:00.965145Z",
     "iopub.status.busy": "2024-02-26T17:38:00.964273Z",
     "iopub.status.idle": "2024-02-26T17:38:02.058274Z",
     "shell.execute_reply": "2024-02-26T17:38:02.057207Z"
    },
    "papermill": {
     "duration": 1.107599,
     "end_time": "2024-02-26T17:38:02.061692",
     "exception": false,
     "start_time": "2024-02-26T17:38:00.954093",
     "status": "completed"
    },
    "tags": []
   },
   "outputs": [
    {
     "name": "stdout",
     "output_type": "stream",
     "text": [
      "/kaggle/input/sms-spam-collection-dataset/spam.csv\n"
     ]
    }
   ],
   "source": [
    "# This Python 3 environment comes with many helpful analytics libraries installed\n",
    "# It is defined by the kaggle/python Docker image: https://github.com/kaggle/docker-python\n",
    "# For example, here's several helpful packages to load\n",
    "\n",
    "import numpy as np # linear algebra\n",
    "import pandas as pd # data processing, CSV file I/O (e.g. pd.read_csv)\n",
    "\n",
    "# Input data files are available in the read-only \"../input/\" directory\n",
    "# For example, running this (by clicking run or pressing Shift+Enter) will list all files under the input directory\n",
    "\n",
    "import os\n",
    "for dirname, _, filenames in os.walk('/kaggle/input'):\n",
    "    for filename in filenames:\n",
    "        print(os.path.join(dirname, filename))\n",
    "\n",
    "# You can write up to 20GB to the current directory (/kaggle/working/) that gets preserved as output when you create a version using \"Save & Run All\" \n",
    "# You can also write temporary files to /kaggle/temp/, but they won't be saved outside of the current session"
   ]
  },
  {
   "cell_type": "markdown",
   "id": "cefcb664",
   "metadata": {
    "papermill": {
     "duration": 0.010614,
     "end_time": "2024-02-26T17:38:02.083600",
     "exception": false,
     "start_time": "2024-02-26T17:38:02.072986",
     "status": "completed"
    },
    "tags": []
   },
   "source": [
    "# Importing Libraries"
   ]
  },
  {
   "cell_type": "code",
   "execution_count": 2,
   "id": "a2fcfcbe",
   "metadata": {
    "execution": {
     "iopub.execute_input": "2024-02-26T17:38:02.108373Z",
     "iopub.status.busy": "2024-02-26T17:38:02.107493Z",
     "iopub.status.idle": "2024-02-26T17:38:19.667577Z",
     "shell.execute_reply": "2024-02-26T17:38:19.666561Z"
    },
    "papermill": {
     "duration": 17.576142,
     "end_time": "2024-02-26T17:38:19.670709",
     "exception": false,
     "start_time": "2024-02-26T17:38:02.094567",
     "status": "completed"
    },
    "tags": []
   },
   "outputs": [
    {
     "name": "stderr",
     "output_type": "stream",
     "text": [
      "2024-02-26 17:38:06.113638: E external/local_xla/xla/stream_executor/cuda/cuda_dnn.cc:9261] Unable to register cuDNN factory: Attempting to register factory for plugin cuDNN when one has already been registered\n",
      "2024-02-26 17:38:06.113791: E external/local_xla/xla/stream_executor/cuda/cuda_fft.cc:607] Unable to register cuFFT factory: Attempting to register factory for plugin cuFFT when one has already been registered\n",
      "2024-02-26 17:38:06.283248: E external/local_xla/xla/stream_executor/cuda/cuda_blas.cc:1515] Unable to register cuBLAS factory: Attempting to register factory for plugin cuBLAS when one has already been registered\n"
     ]
    }
   ],
   "source": [
    "import matplotlib.pyplot as plt\n",
    "import seaborn as sns\n",
    "import tensorflow as tf\n",
    "from tensorflow import keras\n",
    "from tensorflow.keras import layers"
   ]
  },
  {
   "cell_type": "markdown",
   "id": "48a23599",
   "metadata": {
    "papermill": {
     "duration": 0.00721,
     "end_time": "2024-02-26T17:38:19.685866",
     "exception": false,
     "start_time": "2024-02-26T17:38:19.678656",
     "status": "completed"
    },
    "tags": []
   },
   "source": [
    "# Load the Dataset"
   ]
  },
  {
   "cell_type": "code",
   "execution_count": 3,
   "id": "77cd137f",
   "metadata": {
    "execution": {
     "iopub.execute_input": "2024-02-26T17:38:19.704188Z",
     "iopub.status.busy": "2024-02-26T17:38:19.702407Z",
     "iopub.status.idle": "2024-02-26T17:38:19.754843Z",
     "shell.execute_reply": "2024-02-26T17:38:19.753638Z"
    },
    "papermill": {
     "duration": 0.064716,
     "end_time": "2024-02-26T17:38:19.758152",
     "exception": false,
     "start_time": "2024-02-26T17:38:19.693436",
     "status": "completed"
    },
    "tags": []
   },
   "outputs": [
    {
     "data": {
      "text/html": [
       "<div>\n",
       "<style scoped>\n",
       "    .dataframe tbody tr th:only-of-type {\n",
       "        vertical-align: middle;\n",
       "    }\n",
       "\n",
       "    .dataframe tbody tr th {\n",
       "        vertical-align: top;\n",
       "    }\n",
       "\n",
       "    .dataframe thead th {\n",
       "        text-align: right;\n",
       "    }\n",
       "</style>\n",
       "<table border=\"1\" class=\"dataframe\">\n",
       "  <thead>\n",
       "    <tr style=\"text-align: right;\">\n",
       "      <th></th>\n",
       "      <th>v1</th>\n",
       "      <th>v2</th>\n",
       "      <th>Unnamed: 2</th>\n",
       "      <th>Unnamed: 3</th>\n",
       "      <th>Unnamed: 4</th>\n",
       "    </tr>\n",
       "  </thead>\n",
       "  <tbody>\n",
       "    <tr>\n",
       "      <th>0</th>\n",
       "      <td>ham</td>\n",
       "      <td>Go until jurong point, crazy.. Available only ...</td>\n",
       "      <td>NaN</td>\n",
       "      <td>NaN</td>\n",
       "      <td>NaN</td>\n",
       "    </tr>\n",
       "    <tr>\n",
       "      <th>1</th>\n",
       "      <td>ham</td>\n",
       "      <td>Ok lar... Joking wif u oni...</td>\n",
       "      <td>NaN</td>\n",
       "      <td>NaN</td>\n",
       "      <td>NaN</td>\n",
       "    </tr>\n",
       "    <tr>\n",
       "      <th>2</th>\n",
       "      <td>spam</td>\n",
       "      <td>Free entry in 2 a wkly comp to win FA Cup fina...</td>\n",
       "      <td>NaN</td>\n",
       "      <td>NaN</td>\n",
       "      <td>NaN</td>\n",
       "    </tr>\n",
       "    <tr>\n",
       "      <th>3</th>\n",
       "      <td>ham</td>\n",
       "      <td>U dun say so early hor... U c already then say...</td>\n",
       "      <td>NaN</td>\n",
       "      <td>NaN</td>\n",
       "      <td>NaN</td>\n",
       "    </tr>\n",
       "    <tr>\n",
       "      <th>4</th>\n",
       "      <td>ham</td>\n",
       "      <td>Nah I don't think he goes to usf, he lives aro...</td>\n",
       "      <td>NaN</td>\n",
       "      <td>NaN</td>\n",
       "      <td>NaN</td>\n",
       "    </tr>\n",
       "  </tbody>\n",
       "</table>\n",
       "</div>"
      ],
      "text/plain": [
       "     v1                                                 v2 Unnamed: 2  \\\n",
       "0   ham  Go until jurong point, crazy.. Available only ...        NaN   \n",
       "1   ham                      Ok lar... Joking wif u oni...        NaN   \n",
       "2  spam  Free entry in 2 a wkly comp to win FA Cup fina...        NaN   \n",
       "3   ham  U dun say so early hor... U c already then say...        NaN   \n",
       "4   ham  Nah I don't think he goes to usf, he lives aro...        NaN   \n",
       "\n",
       "  Unnamed: 3 Unnamed: 4  \n",
       "0        NaN        NaN  \n",
       "1        NaN        NaN  \n",
       "2        NaN        NaN  \n",
       "3        NaN        NaN  \n",
       "4        NaN        NaN  "
      ]
     },
     "execution_count": 3,
     "metadata": {},
     "output_type": "execute_result"
    }
   ],
   "source": [
    "df = pd.read_csv('/kaggle/input/sms-spam-collection-dataset/spam.csv' , encoding='latin1')\n",
    "df.head()"
   ]
  },
  {
   "cell_type": "code",
   "execution_count": 4,
   "id": "ab2843ca",
   "metadata": {
    "execution": {
     "iopub.execute_input": "2024-02-26T17:38:19.776300Z",
     "iopub.status.busy": "2024-02-26T17:38:19.775854Z",
     "iopub.status.idle": "2024-02-26T17:38:19.803717Z",
     "shell.execute_reply": "2024-02-26T17:38:19.802513Z"
    },
    "papermill": {
     "duration": 0.040042,
     "end_time": "2024-02-26T17:38:19.806393",
     "exception": false,
     "start_time": "2024-02-26T17:38:19.766351",
     "status": "completed"
    },
    "tags": []
   },
   "outputs": [
    {
     "data": {
      "text/html": [
       "<div>\n",
       "<style scoped>\n",
       "    .dataframe tbody tr th:only-of-type {\n",
       "        vertical-align: middle;\n",
       "    }\n",
       "\n",
       "    .dataframe tbody tr th {\n",
       "        vertical-align: top;\n",
       "    }\n",
       "\n",
       "    .dataframe thead th {\n",
       "        text-align: right;\n",
       "    }\n",
       "</style>\n",
       "<table border=\"1\" class=\"dataframe\">\n",
       "  <thead>\n",
       "    <tr style=\"text-align: right;\">\n",
       "      <th></th>\n",
       "      <th>label</th>\n",
       "      <th>Text</th>\n",
       "      <th>label_enc</th>\n",
       "    </tr>\n",
       "  </thead>\n",
       "  <tbody>\n",
       "    <tr>\n",
       "      <th>0</th>\n",
       "      <td>ham</td>\n",
       "      <td>Go until jurong point, crazy.. Available only ...</td>\n",
       "      <td>0</td>\n",
       "    </tr>\n",
       "    <tr>\n",
       "      <th>1</th>\n",
       "      <td>ham</td>\n",
       "      <td>Ok lar... Joking wif u oni...</td>\n",
       "      <td>0</td>\n",
       "    </tr>\n",
       "    <tr>\n",
       "      <th>2</th>\n",
       "      <td>spam</td>\n",
       "      <td>Free entry in 2 a wkly comp to win FA Cup fina...</td>\n",
       "      <td>1</td>\n",
       "    </tr>\n",
       "    <tr>\n",
       "      <th>3</th>\n",
       "      <td>ham</td>\n",
       "      <td>U dun say so early hor... U c already then say...</td>\n",
       "      <td>0</td>\n",
       "    </tr>\n",
       "    <tr>\n",
       "      <th>4</th>\n",
       "      <td>ham</td>\n",
       "      <td>Nah I don't think he goes to usf, he lives aro...</td>\n",
       "      <td>0</td>\n",
       "    </tr>\n",
       "  </tbody>\n",
       "</table>\n",
       "</div>"
      ],
      "text/plain": [
       "  label                                               Text  label_enc\n",
       "0   ham  Go until jurong point, crazy.. Available only ...          0\n",
       "1   ham                      Ok lar... Joking wif u oni...          0\n",
       "2  spam  Free entry in 2 a wkly comp to win FA Cup fina...          1\n",
       "3   ham  U dun say so early hor... U c already then say...          0\n",
       "4   ham  Nah I don't think he goes to usf, he lives aro...          0"
      ]
     },
     "execution_count": 4,
     "metadata": {},
     "output_type": "execute_result"
    }
   ],
   "source": [
    "df = df.drop(['Unnamed: 2','Unnamed: 3','Unnamed: 4'],axis=1)\n",
    "df = df.rename(columns={'v1':'label','v2':'Text'})\n",
    "df['label_enc'] = df['label'].map({'ham':0,'spam':1})\n",
    "df.head()"
   ]
  },
  {
   "cell_type": "code",
   "execution_count": 5,
   "id": "314260ee",
   "metadata": {
    "execution": {
     "iopub.execute_input": "2024-02-26T17:38:19.825202Z",
     "iopub.status.busy": "2024-02-26T17:38:19.824116Z",
     "iopub.status.idle": "2024-02-26T17:38:20.015005Z",
     "shell.execute_reply": "2024-02-26T17:38:20.013658Z"
    },
    "papermill": {
     "duration": 0.203403,
     "end_time": "2024-02-26T17:38:20.017791",
     "exception": false,
     "start_time": "2024-02-26T17:38:19.814388",
     "status": "completed"
    },
    "tags": []
   },
   "outputs": [
    {
     "data": {
      "image/png": "[encoded data removed]",
      "text/plain": [
       "<Figure size 640x480 with 1 Axes>"
      ]
     },
     "metadata": {},
     "output_type": "display_data"
    }
   ],
   "source": [
    "sns.countplot(x=df['label'])\n",
    "plt.show()"
   ]
  },
  {
   "cell_type": "code",
   "execution_count": 6,
   "id": "65e3ed37",
   "metadata": {
    "execution": {
     "iopub.execute_input": "2024-02-26T17:38:20.037623Z",
     "iopub.status.busy": "2024-02-26T17:38:20.037169Z",
     "iopub.status.idle": "2024-02-26T17:38:20.053199Z",
     "shell.execute_reply": "2024-02-26T17:38:20.051993Z"
    },
    "papermill": {
     "duration": 0.029278,
     "end_time": "2024-02-26T17:38:20.055884",
     "exception": false,
     "start_time": "2024-02-26T17:38:20.026606",
     "status": "completed"
    },
    "tags": []
   },
   "outputs": [
    {
     "name": "stdout",
     "output_type": "stream",
     "text": [
      "15\n"
     ]
    }
   ],
   "source": [
    "# Find average number of tokens in all sentences\n",
    "avg_words_len=round(sum([len(i.split()) for i in df['Text']])/len(df['Text']))\n",
    "print(avg_words_len)"
   ]
  },
  {
   "cell_type": "code",
   "execution_count": 7,
   "id": "1e4fd5ce",
   "metadata": {
    "execution": {
     "iopub.execute_input": "2024-02-26T17:38:20.075147Z",
     "iopub.status.busy": "2024-02-26T17:38:20.074609Z",
     "iopub.status.idle": "2024-02-26T17:38:20.113200Z",
     "shell.execute_reply": "2024-02-26T17:38:20.111585Z"
    },
    "papermill": {
     "duration": 0.051456,
     "end_time": "2024-02-26T17:38:20.116014",
     "exception": false,
     "start_time": "2024-02-26T17:38:20.064558",
     "status": "completed"
    },
    "tags": []
   },
   "outputs": [
    {
     "name": "stdout",
     "output_type": "stream",
     "text": [
      "15585\n"
     ]
    }
   ],
   "source": [
    "# Finding Total no of unique words in corpus\n",
    "s = set()\n",
    "for sent in df['Text']:\n",
    "  for word in sent.split():\n",
    "    s.add(word)\n",
    "total_words_length=len(s)\n",
    "print(total_words_length)"
   ]
  },
  {
   "cell_type": "markdown",
   "id": "df1c938e",
   "metadata": {
    "papermill": {
     "duration": 0.008297,
     "end_time": "2024-02-26T17:38:20.132980",
     "exception": false,
     "start_time": "2024-02-26T17:38:20.124683",
     "status": "completed"
    },
    "tags": []
   },
   "source": [
    "# Spliting The Data"
   ]
  },
  {
   "cell_type": "code",
   "execution_count": 8,
   "id": "0d31024f",
   "metadata": {
    "execution": {
     "iopub.execute_input": "2024-02-26T17:38:20.152256Z",
     "iopub.status.busy": "2024-02-26T17:38:20.151750Z",
     "iopub.status.idle": "2024-02-26T17:38:20.448930Z",
     "shell.execute_reply": "2024-02-26T17:38:20.447673Z"
    },
    "papermill": {
     "duration": 0.310371,
     "end_time": "2024-02-26T17:38:20.451989",
     "exception": false,
     "start_time": "2024-02-26T17:38:20.141618",
     "status": "completed"
    },
    "tags": []
   },
   "outputs": [
    {
     "data": {
      "text/plain": [
       "((4457,), (4457,), (1115,), (1115,))"
      ]
     },
     "execution_count": 8,
     "metadata": {},
     "output_type": "execute_result"
    }
   ],
   "source": [
    "# Splitting data for Training and testing\n",
    "from sklearn.model_selection import train_test_split\n",
    " \n",
    "X, y = np.asanyarray(df['Text']), np.asanyarray(df['label_enc'])\n",
    "new_df = pd.DataFrame({'Text': X, 'label': y})\n",
    "X_train, X_test, y_train, y_test = train_test_split(\n",
    "    new_df['Text'], new_df['label'], test_size=0.2, random_state=42)\n",
    "X_train.shape, y_train.shape, X_test.shape, y_test.shape"
   ]
  },
  {
   "cell_type": "markdown",
   "id": "8a2702ee",
   "metadata": {
    "papermill": {
     "duration": 0.008299,
     "end_time": "2024-02-26T17:38:20.470238",
     "exception": false,
     "start_time": "2024-02-26T17:38:20.461939",
     "status": "completed"
    },
    "tags": []
   },
   "source": [
    "# Building the models"
   ]
  },
  {
   "cell_type": "code",
   "execution_count": 9,
   "id": "afbc9a56",
   "metadata": {
    "execution": {
     "iopub.execute_input": "2024-02-26T17:38:20.489620Z",
     "iopub.status.busy": "2024-02-26T17:38:20.489118Z",
     "iopub.status.idle": "2024-02-26T17:38:20.836873Z",
     "shell.execute_reply": "2024-02-26T17:38:20.835538Z"
    },
    "papermill": {
     "duration": 0.361376,
     "end_time": "2024-02-26T17:38:20.840288",
     "exception": false,
     "start_time": "2024-02-26T17:38:20.478912",
     "status": "completed"
    },
    "tags": []
   },
   "outputs": [
    {
     "data": {
      "text/html": [
       "<style>#sk-container-id-1 {color: black;background-color: white;}#sk-container-id-1 pre{padding: 0;}#sk-container-id-1 div.sk-toggleable {background-color: white;}#sk-container-id-1 label.sk-toggleable__label {cursor: pointer;display: block;width: 100%;margin-bottom: 0;padding: 0.3em;box-sizing: border-box;text-align: center;}#sk-container-id-1 label.sk-toggleable__label-arrow:before {content: \"▸\";float: left;margin-right: 0.25em;color: #696969;}#sk-container-id-1 label.sk-toggleable__label-arrow:hover:before {color: black;}#sk-container-id-1 div.sk-estimator:hover label.sk-toggleable__label-arrow:before {color: black;}#sk-container-id-1 div.sk-toggleable__content {max-height: 0;max-width: 0;overflow: hidden;text-align: left;background-color: #f0f8ff;}#sk-container-id-1 div.sk-toggleable__content pre {margin: 0.2em;color: black;border-radius: 0.25em;background-color: #f0f8ff;}#sk-container-id-1 input.sk-toggleable__control:checked~div.sk-toggleable__content {max-height: 200px;max-width: 100%;overflow: auto;}#sk-container-id-1 input.sk-toggleable__control:checked~label.sk-toggleable__label-arrow:before {content: \"▾\";}#sk-container-id-1 div.sk-estimator input.sk-toggleable__control:checked~label.sk-toggleable__label {background-color: #d4ebff;}#sk-container-id-1 div.sk-label input.sk-toggleable__control:checked~label.sk-toggleable__label {background-color: #d4ebff;}#sk-container-id-1 input.sk-hidden--visually {border: 0;clip: rect(1px 1px 1px 1px);clip: rect(1px, 1px, 1px, 1px);height: 1px;margin: -1px;overflow: hidden;padding: 0;position: absolute;width: 1px;}#sk-container-id-1 div.sk-estimator {font-family: monospace;background-color: #f0f8ff;border: 1px dotted black;border-radius: 0.25em;box-sizing: border-box;margin-bottom: 0.5em;}#sk-container-id-1 div.sk-estimator:hover {background-color: #d4ebff;}#sk-container-id-1 div.sk-parallel-item::after {content: \"\";width: 100%;border-bottom: 1px solid gray;flex-grow: 1;}#sk-container-id-1 div.sk-label:hover label.sk-toggleable__label {background-color: #d4ebff;}#sk-container-id-1 div.sk-serial::before {content: \"\";position: absolute;border-left: 1px solid gray;box-sizing: border-box;top: 0;bottom: 0;left: 50%;z-index: 0;}#sk-container-id-1 div.sk-serial {display: flex;flex-direction: column;align-items: center;background-color: white;padding-right: 0.2em;padding-left: 0.2em;position: relative;}#sk-container-id-1 div.sk-item {position: relative;z-index: 1;}#sk-container-id-1 div.sk-parallel {display: flex;align-items: stretch;justify-content: center;background-color: white;position: relative;}#sk-container-id-1 div.sk-item::before, #sk-container-id-1 div.sk-parallel-item::before {content: \"\";position: absolute;border-left: 1px solid gray;box-sizing: border-box;top: 0;bottom: 0;left: 50%;z-index: -1;}#sk-container-id-1 div.sk-parallel-item {display: flex;flex-direction: column;z-index: 1;position: relative;background-color: white;}#sk-container-id-1 div.sk-parallel-item:first-child::after {align-self: flex-end;width: 50%;}#sk-container-id-1 div.sk-parallel-item:last-child::after {align-self: flex-start;width: 50%;}#sk-container-id-1 div.sk-parallel-item:only-child::after {width: 0;}#sk-container-id-1 div.sk-dashed-wrapped {border: 1px dashed gray;margin: 0 0.4em 0.5em 0.4em;box-sizing: border-box;padding-bottom: 0.4em;background-color: white;}#sk-container-id-1 div.sk-label label {font-family: monospace;font-weight: bold;display: inline-block;line-height: 1.2em;}#sk-container-id-1 div.sk-label-container {text-align: center;}#sk-container-id-1 div.sk-container {/* jupyter's `normalize.less` sets `[hidden] { display: none; }` but bootstrap.min.css set `[hidden] { display: none !important; }` so we also need the `!important` here to be able to override the default hidden behavior on the sphinx rendered scikit-learn.org. See: https://github.com/scikit-learn/scikit-learn/issues/21755 */display: inline-block !important;position: relative;}#sk-container-id-1 div.sk-text-repr-fallback {display: none;}</style><div id=\"sk-container-id-1\" class=\"sk-top-container\"><div class=\"sk-text-repr-fallback\"><pre>MultinomialNB()</pre><b>In a Jupyter environment, please rerun this cell to show the HTML representation or trust the notebook. <br />On GitHub, the HTML representation is unable to render, please try loading this page with nbviewer.org.</b></div><div class=\"sk-container\" hidden><div class=\"sk-item\"><div class=\"sk-estimator sk-toggleable\"><input class=\"sk-toggleable__control sk-hidden--visually\" id=\"sk-estimator-id-1\" type=\"checkbox\" checked><label for=\"sk-estimator-id-1\" class=\"sk-toggleable__label sk-toggleable__label-arrow\">MultinomialNB</label><div class=\"sk-toggleable__content\"><pre>MultinomialNB()</pre></div></div></div></div></div>"
      ],
      "text/plain": [
       "MultinomialNB()"
      ]
     },
     "execution_count": 9,
     "metadata": {},
     "output_type": "execute_result"
    }
   ],
   "source": [
    "from sklearn.feature_extraction.text import TfidfVectorizer\n",
    "from sklearn.naive_bayes import MultinomialNB\n",
    "from sklearn.metrics import classification_report,accuracy_score\n",
    " \n",
    "tfidf_vec = TfidfVectorizer().fit(X_train)\n",
    "X_train_vec,X_test_vec = tfidf_vec.transform(X_train),tfidf_vec.transform(X_test)\n",
    " \n",
    "baseline_model = MultinomialNB()\n",
    "baseline_model.fit(X_train_vec,y_train)"
   ]
  },
  {
   "cell_type": "markdown",
   "id": "e920587b",
   "metadata": {
    "papermill": {
     "duration": 0.009112,
     "end_time": "2024-02-26T17:38:20.859121",
     "exception": false,
     "start_time": "2024-02-26T17:38:20.850009",
     "status": "completed"
    },
    "tags": []
   },
   "source": [
    "#  Model 1: Creating custom Text vectorization and embedding layers:\n"
   ]
  },
  {
   "cell_type": "code",
   "execution_count": 10,
   "id": "7c0a263a",
   "metadata": {
    "execution": {
     "iopub.execute_input": "2024-02-26T17:38:20.879229Z",
     "iopub.status.busy": "2024-02-26T17:38:20.878744Z",
     "iopub.status.idle": "2024-02-26T17:38:21.407170Z",
     "shell.execute_reply": "2024-02-26T17:38:21.405918Z"
    },
    "papermill": {
     "duration": 0.542175,
     "end_time": "2024-02-26T17:38:21.410434",
     "exception": false,
     "start_time": "2024-02-26T17:38:20.868259",
     "status": "completed"
    },
    "tags": []
   },
   "outputs": [],
   "source": [
    "from tensorflow.keras.layers import TextVectorization\n",
    "\n",
    "MAXTOKENS=total_words_length\n",
    "OUTPUTLEN=avg_words_len\n",
    "\n",
    "text_vec = TextVectorization(\n",
    "\tmax_tokens=MAXTOKENS,\n",
    "\tstandardize='lower_and_strip_punctuation',\n",
    "\toutput_mode='int',\n",
    "\toutput_sequence_length=OUTPUTLEN\n",
    ")\n",
    "text_vec.adapt(X_train)\n"
   ]
  },
  {
   "cell_type": "code",
   "execution_count": 11,
   "id": "f09851c1",
   "metadata": {
    "execution": {
     "iopub.execute_input": "2024-02-26T17:38:21.431555Z",
     "iopub.status.busy": "2024-02-26T17:38:21.430213Z",
     "iopub.status.idle": "2024-02-26T17:38:21.439136Z",
     "shell.execute_reply": "2024-02-26T17:38:21.437905Z"
    },
    "papermill": {
     "duration": 0.022374,
     "end_time": "2024-02-26T17:38:21.442029",
     "exception": false,
     "start_time": "2024-02-26T17:38:21.419655",
     "status": "completed"
    },
    "tags": []
   },
   "outputs": [],
   "source": [
    "embedding_layer = layers.Embedding(\n",
    "    input_dim=MAXTOKENS,\n",
    "    output_dim=128,\n",
    "    embeddings_initializer='uniform',\n",
    "    input_length=OUTPUTLEN\n",
    ")"
   ]
  },
  {
   "cell_type": "code",
   "execution_count": 12,
   "id": "f64b1d1d",
   "metadata": {
    "execution": {
     "iopub.execute_input": "2024-02-26T17:38:21.463070Z",
     "iopub.status.busy": "2024-02-26T17:38:21.462577Z",
     "iopub.status.idle": "2024-02-26T17:38:21.625071Z",
     "shell.execute_reply": "2024-02-26T17:38:21.623810Z"
    },
    "papermill": {
     "duration": 0.177739,
     "end_time": "2024-02-26T17:38:21.629068",
     "exception": false,
     "start_time": "2024-02-26T17:38:21.451329",
     "status": "completed"
    },
    "tags": []
   },
   "outputs": [],
   "source": [
    "input_layer = layers.Input(shape=(1,), dtype=tf.string)\n",
    "vec_layer = text_vec(input_layer)\n",
    "embedding_layer_model = embedding_layer(vec_layer)\n",
    "x = layers.GlobalAveragePooling1D()(embedding_layer_model)\n",
    "x = layers.Flatten()(x)\n",
    "x = layers.Dense(32, activation='relu')(x)\n",
    "output_layer = layers.Dense(1, activation='sigmoid')(x)\n",
    "model_1 = keras.Model(input_layer, output_layer)\n",
    "\n",
    "model_1.compile(optimizer='adam', loss=keras.losses.BinaryCrossentropy(\n",
    "\tlabel_smoothing=0.5), metrics=['accuracy'])\n"
   ]
  },
  {
   "cell_type": "markdown",
   "id": "9419c71f",
   "metadata": {
    "papermill": {
     "duration": 0.008559,
     "end_time": "2024-02-26T17:38:21.646750",
     "exception": false,
     "start_time": "2024-02-26T17:38:21.638191",
     "status": "completed"
    },
    "tags": []
   },
   "source": [
    "Let’s create helper functions for compiling, fitting, and evaluating the model performance."
   ]
  },
  {
   "cell_type": "code",
   "execution_count": 13,
   "id": "f886b418",
   "metadata": {
    "execution": {
     "iopub.execute_input": "2024-02-26T17:38:21.667659Z",
     "iopub.status.busy": "2024-02-26T17:38:21.666410Z",
     "iopub.status.idle": "2024-02-26T17:38:21.678309Z",
     "shell.execute_reply": "2024-02-26T17:38:21.676575Z"
    },
    "papermill": {
     "duration": 0.025744,
     "end_time": "2024-02-26T17:38:21.681401",
     "exception": false,
     "start_time": "2024-02-26T17:38:21.655657",
     "status": "completed"
    },
    "tags": []
   },
   "outputs": [],
   "source": [
    "from sklearn.metrics import precision_score, recall_score, f1_score\n",
    " \n",
    "def compile_model(model):\n",
    "    '''\n",
    "    simply compile the model with adam optimzer\n",
    "    '''\n",
    "    model.compile(optimizer=keras.optimizers.Adam(),\n",
    "                  loss=keras.losses.BinaryCrossentropy(),\n",
    "                  metrics=['accuracy'])\n",
    " \n",
    "def fit_model(model, epochs, X_train=X_train, y_train=y_train,\n",
    "              X_test=X_test, y_test=y_test):\n",
    "    '''\n",
    "    fit the model with given epochs, train \n",
    "    and test data\n",
    "    '''\n",
    "    history = model.fit(X_train,\n",
    "                        y_train,\n",
    "                        epochs=epochs,\n",
    "                        validation_data=(X_test, y_test),\n",
    "                        validation_steps=int(0.2*len(X_test)))\n",
    "    return history\n",
    " \n",
    "def evaluate_model(model, X, y):\n",
    "    '''\n",
    "    evaluate the model and returns accuracy, \n",
    "    precision, recall and f1-score \n",
    "    '''\n",
    "    y_preds = np.round(model.predict(X))\n",
    "    accuracy = accuracy_score(y, y_preds)\n",
    "    precision = precision_score(y, y_preds)\n",
    "    recall = recall_score(y, y_preds)\n",
    "    f1 = f1_score(y, y_preds)\n",
    " \n",
    "    model_results_dict = {'accuracy': accuracy,\n",
    "                          'precision': precision,\n",
    "                          'recall': recall,\n",
    "                          'f1-score': f1}\n",
    " \n",
    "    return model_results_dict"
   ]
  },
  {
   "cell_type": "markdown",
   "id": "38660544",
   "metadata": {
    "papermill": {
     "duration": 0.011716,
     "end_time": "2024-02-26T17:38:21.717937",
     "exception": false,
     "start_time": "2024-02-26T17:38:21.706221",
     "status": "completed"
    },
    "tags": []
   },
   "source": [
    "# Model -2 Bidirectional LSTM"
   ]
  },
  {
   "cell_type": "code",
   "execution_count": 14,
   "id": "e2ed38f3",
   "metadata": {
    "execution": {
     "iopub.execute_input": "2024-02-26T17:38:21.742528Z",
     "iopub.status.busy": "2024-02-26T17:38:21.741769Z",
     "iopub.status.idle": "2024-02-26T17:39:12.007719Z",
     "shell.execute_reply": "2024-02-26T17:39:12.006366Z"
    },
    "papermill": {
     "duration": 50.282157,
     "end_time": "2024-02-26T17:39:12.010733",
     "exception": false,
     "start_time": "2024-02-26T17:38:21.728576",
     "status": "completed"
    },
    "tags": []
   },
   "outputs": [
    {
     "name": "stdout",
     "output_type": "stream",
     "text": [
      "Epoch 1/5\n",
      "140/140 [==============================] - 18s 70ms/step - loss: 0.1659 - accuracy: 0.9414 - val_loss: 0.0822 - val_accuracy: 0.9758\n",
      "Epoch 2/5\n",
      "140/140 [==============================] - 7s 52ms/step - loss: 0.0268 - accuracy: 0.9937 - val_loss: 0.1083 - val_accuracy: 0.9749\n",
      "Epoch 3/5\n",
      "140/140 [==============================] - 7s 52ms/step - loss: 0.0066 - accuracy: 0.9975 - val_loss: 0.1036 - val_accuracy: 0.9812\n",
      "Epoch 4/5\n",
      "140/140 [==============================] - 7s 51ms/step - loss: 0.0013 - accuracy: 0.9998 - val_loss: 0.1291 - val_accuracy: 0.9785\n",
      "Epoch 5/5\n",
      "140/140 [==============================] - 8s 56ms/step - loss: 1.8607e-04 - accuracy: 1.0000 - val_loss: 0.1422 - val_accuracy: 0.9785\n"
     ]
    }
   ],
   "source": [
    "input_layer = layers.Input(shape=(1,), dtype=tf.string)\n",
    "vec_layer = text_vec(input_layer)\n",
    "embedding_layer_model = embedding_layer(vec_layer)\n",
    "bi_lstm = layers.Bidirectional(layers.LSTM(\n",
    "\t64, activation='tanh', return_sequences=True))(embedding_layer_model)\n",
    "lstm = layers.Bidirectional(layers.LSTM(64))(bi_lstm)\n",
    "flatten = layers.Flatten()(lstm)\n",
    "dropout = layers.Dropout(.1)(flatten)\n",
    "x = layers.Dense(32, activation='relu')(dropout)\n",
    "output_layer = layers.Dense(1, activation='sigmoid')(x)\n",
    "model_2 = keras.Model(input_layer, output_layer)\n",
    "\n",
    "compile_model(model_2) # compile the model\n",
    "history_2 = fit_model(model_2, epochs=5) # fit the model\n"
   ]
  }
 ],
 "metadata": {
  "kaggle": {
   "accelerator": "none",
   "dataSources": [
    {
     "datasetId": 483,
     "sourceId": 982,
     "sourceType": "datasetVersion"
    }
   ],
   "dockerImageVersionId": 30646,
   "isGpuEnabled": false,
   "isInternetEnabled": false,
   "language": "python",
   "sourceType": "notebook"
  },
  "kernelspec": {
   "display_name": "Python 3",
   "language": "python",
   "name": "python3"
  },
  "language_info": {
   "codemirror_mode": {
    "name": "ipython",
    "version": 3
   },
   "file_extension": ".py",
   "mimetype": "text/x-python",
   "name": "python",
   "nbconvert_exporter": "python",
   "pygments_lexer": "ipython3",
   "version": "3.10.13"
  },
  "papermill": {
   "default_parameters": {},
   "duration": 77.262063,
   "end_time": "2024-02-26T17:39:14.991136",
   "environment_variables": {},
   "exception": null,
   "input_path": "__notebook__.ipynb",
   "output_path": "__notebook__.ipynb",
   "parameters": {},
   "start_time": "2024-02-26T17:37:57.729073",
   "version": "2.5.0"
  }
 },
 "nbformat": 4,
 "nbformat_minor": 5
}
